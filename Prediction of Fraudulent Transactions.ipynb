{
 "cells": [
  {
   "cell_type": "markdown",
   "id": "951dd06a",
   "metadata": {},
   "source": [
    "# Prediction of Fraudulent transactions\n",
    "\n",
    "**To develop a model for predicting fraudulent transactions for a financial company and use insights from the model to develop an actionable plan**"
   ]
  },
  {
   "cell_type": "code",
   "execution_count": 1,
   "id": "b0590c92",
   "metadata": {},
   "outputs": [],
   "source": [
    "# import warnings\n",
    "import warnings\n",
    "warnings.filterwarnings('ignore')"
   ]
  },
  {
   "cell_type": "code",
   "execution_count": 2,
   "id": "1e5ab11b",
   "metadata": {},
   "outputs": [],
   "source": [
    "# importing required libraries\n",
    "import numpy as np\n",
    "import pandas as pd\n",
    "import matplotlib.pyplot as plt\n",
    "%matplotlib inline\n",
    "import seaborn as sns"
   ]
  },
  {
   "cell_type": "markdown",
   "id": "feb26add",
   "metadata": {},
   "source": [
    "## 1. Data Reading and Understanding"
   ]
  },
  {
   "cell_type": "code",
   "execution_count": 3,
   "id": "2aea9b13",
   "metadata": {},
   "outputs": [
    {
     "data": {
      "text/html": [
       "<div>\n",
       "<style scoped>\n",
       "    .dataframe tbody tr th:only-of-type {\n",
       "        vertical-align: middle;\n",
       "    }\n",
       "\n",
       "    .dataframe tbody tr th {\n",
       "        vertical-align: top;\n",
       "    }\n",
       "\n",
       "    .dataframe thead th {\n",
       "        text-align: right;\n",
       "    }\n",
       "</style>\n",
       "<table border=\"1\" class=\"dataframe\">\n",
       "  <thead>\n",
       "    <tr style=\"text-align: right;\">\n",
       "      <th></th>\n",
       "      <th>step</th>\n",
       "      <th>type</th>\n",
       "      <th>amount</th>\n",
       "      <th>nameOrig</th>\n",
       "      <th>oldbalanceOrg</th>\n",
       "      <th>newbalanceOrig</th>\n",
       "      <th>nameDest</th>\n",
       "      <th>oldbalanceDest</th>\n",
       "      <th>newbalanceDest</th>\n",
       "      <th>isFraud</th>\n",
       "      <th>isFlaggedFraud</th>\n",
       "    </tr>\n",
       "  </thead>\n",
       "  <tbody>\n",
       "    <tr>\n",
       "      <th>0</th>\n",
       "      <td>1</td>\n",
       "      <td>PAYMENT</td>\n",
       "      <td>9839.64</td>\n",
       "      <td>C1231006815</td>\n",
       "      <td>170136.00</td>\n",
       "      <td>160296.36</td>\n",
       "      <td>M1979787155</td>\n",
       "      <td>0.0</td>\n",
       "      <td>0.00</td>\n",
       "      <td>0</td>\n",
       "      <td>0</td>\n",
       "    </tr>\n",
       "    <tr>\n",
       "      <th>1</th>\n",
       "      <td>1</td>\n",
       "      <td>PAYMENT</td>\n",
       "      <td>1864.28</td>\n",
       "      <td>C1666544295</td>\n",
       "      <td>21249.00</td>\n",
       "      <td>19384.72</td>\n",
       "      <td>M2044282225</td>\n",
       "      <td>0.0</td>\n",
       "      <td>0.00</td>\n",
       "      <td>0</td>\n",
       "      <td>0</td>\n",
       "    </tr>\n",
       "    <tr>\n",
       "      <th>2</th>\n",
       "      <td>1</td>\n",
       "      <td>TRANSFER</td>\n",
       "      <td>181.00</td>\n",
       "      <td>C1305486145</td>\n",
       "      <td>181.00</td>\n",
       "      <td>0.00</td>\n",
       "      <td>C553264065</td>\n",
       "      <td>0.0</td>\n",
       "      <td>0.00</td>\n",
       "      <td>1</td>\n",
       "      <td>0</td>\n",
       "    </tr>\n",
       "    <tr>\n",
       "      <th>3</th>\n",
       "      <td>1</td>\n",
       "      <td>CASH_OUT</td>\n",
       "      <td>181.00</td>\n",
       "      <td>C840083671</td>\n",
       "      <td>181.00</td>\n",
       "      <td>0.00</td>\n",
       "      <td>C38997010</td>\n",
       "      <td>21182.0</td>\n",
       "      <td>0.00</td>\n",
       "      <td>1</td>\n",
       "      <td>0</td>\n",
       "    </tr>\n",
       "    <tr>\n",
       "      <th>4</th>\n",
       "      <td>1</td>\n",
       "      <td>PAYMENT</td>\n",
       "      <td>11668.14</td>\n",
       "      <td>C2048537720</td>\n",
       "      <td>41554.00</td>\n",
       "      <td>29885.86</td>\n",
       "      <td>M1230701703</td>\n",
       "      <td>0.0</td>\n",
       "      <td>0.00</td>\n",
       "      <td>0</td>\n",
       "      <td>0</td>\n",
       "    </tr>\n",
       "    <tr>\n",
       "      <th>5</th>\n",
       "      <td>1</td>\n",
       "      <td>PAYMENT</td>\n",
       "      <td>7817.71</td>\n",
       "      <td>C90045638</td>\n",
       "      <td>53860.00</td>\n",
       "      <td>46042.29</td>\n",
       "      <td>M573487274</td>\n",
       "      <td>0.0</td>\n",
       "      <td>0.00</td>\n",
       "      <td>0</td>\n",
       "      <td>0</td>\n",
       "    </tr>\n",
       "    <tr>\n",
       "      <th>6</th>\n",
       "      <td>1</td>\n",
       "      <td>PAYMENT</td>\n",
       "      <td>7107.77</td>\n",
       "      <td>C154988899</td>\n",
       "      <td>183195.00</td>\n",
       "      <td>176087.23</td>\n",
       "      <td>M408069119</td>\n",
       "      <td>0.0</td>\n",
       "      <td>0.00</td>\n",
       "      <td>0</td>\n",
       "      <td>0</td>\n",
       "    </tr>\n",
       "    <tr>\n",
       "      <th>7</th>\n",
       "      <td>1</td>\n",
       "      <td>PAYMENT</td>\n",
       "      <td>7861.64</td>\n",
       "      <td>C1912850431</td>\n",
       "      <td>176087.23</td>\n",
       "      <td>168225.59</td>\n",
       "      <td>M633326333</td>\n",
       "      <td>0.0</td>\n",
       "      <td>0.00</td>\n",
       "      <td>0</td>\n",
       "      <td>0</td>\n",
       "    </tr>\n",
       "    <tr>\n",
       "      <th>8</th>\n",
       "      <td>1</td>\n",
       "      <td>PAYMENT</td>\n",
       "      <td>4024.36</td>\n",
       "      <td>C1265012928</td>\n",
       "      <td>2671.00</td>\n",
       "      <td>0.00</td>\n",
       "      <td>M1176932104</td>\n",
       "      <td>0.0</td>\n",
       "      <td>0.00</td>\n",
       "      <td>0</td>\n",
       "      <td>0</td>\n",
       "    </tr>\n",
       "    <tr>\n",
       "      <th>9</th>\n",
       "      <td>1</td>\n",
       "      <td>DEBIT</td>\n",
       "      <td>5337.77</td>\n",
       "      <td>C712410124</td>\n",
       "      <td>41720.00</td>\n",
       "      <td>36382.23</td>\n",
       "      <td>C195600860</td>\n",
       "      <td>41898.0</td>\n",
       "      <td>40348.79</td>\n",
       "      <td>0</td>\n",
       "      <td>0</td>\n",
       "    </tr>\n",
       "  </tbody>\n",
       "</table>\n",
       "</div>"
      ],
      "text/plain": [
       "   step      type    amount     nameOrig  oldbalanceOrg  newbalanceOrig  \\\n",
       "0     1   PAYMENT   9839.64  C1231006815      170136.00       160296.36   \n",
       "1     1   PAYMENT   1864.28  C1666544295       21249.00        19384.72   \n",
       "2     1  TRANSFER    181.00  C1305486145         181.00            0.00   \n",
       "3     1  CASH_OUT    181.00   C840083671         181.00            0.00   \n",
       "4     1   PAYMENT  11668.14  C2048537720       41554.00        29885.86   \n",
       "5     1   PAYMENT   7817.71    C90045638       53860.00        46042.29   \n",
       "6     1   PAYMENT   7107.77   C154988899      183195.00       176087.23   \n",
       "7     1   PAYMENT   7861.64  C1912850431      176087.23       168225.59   \n",
       "8     1   PAYMENT   4024.36  C1265012928        2671.00            0.00   \n",
       "9     1     DEBIT   5337.77   C712410124       41720.00        36382.23   \n",
       "\n",
       "      nameDest  oldbalanceDest  newbalanceDest  isFraud  isFlaggedFraud  \n",
       "0  M1979787155             0.0            0.00        0               0  \n",
       "1  M2044282225             0.0            0.00        0               0  \n",
       "2   C553264065             0.0            0.00        1               0  \n",
       "3    C38997010         21182.0            0.00        1               0  \n",
       "4  M1230701703             0.0            0.00        0               0  \n",
       "5   M573487274             0.0            0.00        0               0  \n",
       "6   M408069119             0.0            0.00        0               0  \n",
       "7   M633326333             0.0            0.00        0               0  \n",
       "8  M1176932104             0.0            0.00        0               0  \n",
       "9   C195600860         41898.0        40348.79        0               0  "
      ]
     },
     "execution_count": 3,
     "metadata": {},
     "output_type": "execute_result"
    }
   ],
   "source": [
    "# importing and reading the csv file\n",
    "fraud_df = pd.read_csv(\"Fraud.csv\")\n",
    "fraud_df.head(10)"
   ]
  },
  {
   "cell_type": "code",
   "execution_count": 4,
   "id": "63ec569e",
   "metadata": {},
   "outputs": [
    {
     "data": {
      "text/plain": [
       "(6362620, 11)"
      ]
     },
     "execution_count": 4,
     "metadata": {},
     "output_type": "execute_result"
    }
   ],
   "source": [
    "# dimensions of the data\n",
    "fraud_df.shape"
   ]
  },
  {
   "cell_type": "code",
   "execution_count": 5,
   "id": "5eaabd09",
   "metadata": {},
   "outputs": [
    {
     "name": "stdout",
     "output_type": "stream",
     "text": [
      "<class 'pandas.core.frame.DataFrame'>\n",
      "RangeIndex: 6362620 entries, 0 to 6362619\n",
      "Data columns (total 11 columns):\n",
      " #   Column          Dtype  \n",
      "---  ------          -----  \n",
      " 0   step            int64  \n",
      " 1   type            object \n",
      " 2   amount          float64\n",
      " 3   nameOrig        object \n",
      " 4   oldbalanceOrg   float64\n",
      " 5   newbalanceOrig  float64\n",
      " 6   nameDest        object \n",
      " 7   oldbalanceDest  float64\n",
      " 8   newbalanceDest  float64\n",
      " 9   isFraud         int64  \n",
      " 10  isFlaggedFraud  int64  \n",
      "dtypes: float64(5), int64(3), object(3)\n",
      "memory usage: 534.0+ MB\n"
     ]
    }
   ],
   "source": [
    "# info of the data\n",
    "fraud_df.info()"
   ]
  },
  {
   "cell_type": "markdown",
   "id": "83d9d969",
   "metadata": {},
   "source": [
    "Here, **'isFraud'** is the **target variable**"
   ]
  },
  {
   "cell_type": "code",
   "execution_count": 6,
   "id": "3ad05496",
   "metadata": {},
   "outputs": [
    {
     "data": {
      "text/html": [
       "<div>\n",
       "<style scoped>\n",
       "    .dataframe tbody tr th:only-of-type {\n",
       "        vertical-align: middle;\n",
       "    }\n",
       "\n",
       "    .dataframe tbody tr th {\n",
       "        vertical-align: top;\n",
       "    }\n",
       "\n",
       "    .dataframe thead th {\n",
       "        text-align: right;\n",
       "    }\n",
       "</style>\n",
       "<table border=\"1\" class=\"dataframe\">\n",
       "  <thead>\n",
       "    <tr style=\"text-align: right;\">\n",
       "      <th></th>\n",
       "      <th>step</th>\n",
       "      <th>amount</th>\n",
       "      <th>oldbalanceOrg</th>\n",
       "      <th>newbalanceOrig</th>\n",
       "      <th>oldbalanceDest</th>\n",
       "      <th>newbalanceDest</th>\n",
       "      <th>isFraud</th>\n",
       "      <th>isFlaggedFraud</th>\n",
       "    </tr>\n",
       "  </thead>\n",
       "  <tbody>\n",
       "    <tr>\n",
       "      <th>count</th>\n",
       "      <td>6.362620e+06</td>\n",
       "      <td>6.362620e+06</td>\n",
       "      <td>6.362620e+06</td>\n",
       "      <td>6.362620e+06</td>\n",
       "      <td>6.362620e+06</td>\n",
       "      <td>6.362620e+06</td>\n",
       "      <td>6.362620e+06</td>\n",
       "      <td>6.362620e+06</td>\n",
       "    </tr>\n",
       "    <tr>\n",
       "      <th>mean</th>\n",
       "      <td>2.433972e+02</td>\n",
       "      <td>1.798619e+05</td>\n",
       "      <td>8.338831e+05</td>\n",
       "      <td>8.551137e+05</td>\n",
       "      <td>1.100702e+06</td>\n",
       "      <td>1.224996e+06</td>\n",
       "      <td>1.290820e-03</td>\n",
       "      <td>2.514687e-06</td>\n",
       "    </tr>\n",
       "    <tr>\n",
       "      <th>std</th>\n",
       "      <td>1.423320e+02</td>\n",
       "      <td>6.038582e+05</td>\n",
       "      <td>2.888243e+06</td>\n",
       "      <td>2.924049e+06</td>\n",
       "      <td>3.399180e+06</td>\n",
       "      <td>3.674129e+06</td>\n",
       "      <td>3.590480e-02</td>\n",
       "      <td>1.585775e-03</td>\n",
       "    </tr>\n",
       "    <tr>\n",
       "      <th>min</th>\n",
       "      <td>1.000000e+00</td>\n",
       "      <td>0.000000e+00</td>\n",
       "      <td>0.000000e+00</td>\n",
       "      <td>0.000000e+00</td>\n",
       "      <td>0.000000e+00</td>\n",
       "      <td>0.000000e+00</td>\n",
       "      <td>0.000000e+00</td>\n",
       "      <td>0.000000e+00</td>\n",
       "    </tr>\n",
       "    <tr>\n",
       "      <th>25%</th>\n",
       "      <td>1.560000e+02</td>\n",
       "      <td>1.338957e+04</td>\n",
       "      <td>0.000000e+00</td>\n",
       "      <td>0.000000e+00</td>\n",
       "      <td>0.000000e+00</td>\n",
       "      <td>0.000000e+00</td>\n",
       "      <td>0.000000e+00</td>\n",
       "      <td>0.000000e+00</td>\n",
       "    </tr>\n",
       "    <tr>\n",
       "      <th>50%</th>\n",
       "      <td>2.390000e+02</td>\n",
       "      <td>7.487194e+04</td>\n",
       "      <td>1.420800e+04</td>\n",
       "      <td>0.000000e+00</td>\n",
       "      <td>1.327057e+05</td>\n",
       "      <td>2.146614e+05</td>\n",
       "      <td>0.000000e+00</td>\n",
       "      <td>0.000000e+00</td>\n",
       "    </tr>\n",
       "    <tr>\n",
       "      <th>75%</th>\n",
       "      <td>3.350000e+02</td>\n",
       "      <td>2.087215e+05</td>\n",
       "      <td>1.073152e+05</td>\n",
       "      <td>1.442584e+05</td>\n",
       "      <td>9.430367e+05</td>\n",
       "      <td>1.111909e+06</td>\n",
       "      <td>0.000000e+00</td>\n",
       "      <td>0.000000e+00</td>\n",
       "    </tr>\n",
       "    <tr>\n",
       "      <th>max</th>\n",
       "      <td>7.430000e+02</td>\n",
       "      <td>9.244552e+07</td>\n",
       "      <td>5.958504e+07</td>\n",
       "      <td>4.958504e+07</td>\n",
       "      <td>3.560159e+08</td>\n",
       "      <td>3.561793e+08</td>\n",
       "      <td>1.000000e+00</td>\n",
       "      <td>1.000000e+00</td>\n",
       "    </tr>\n",
       "  </tbody>\n",
       "</table>\n",
       "</div>"
      ],
      "text/plain": [
       "               step        amount  oldbalanceOrg  newbalanceOrig  \\\n",
       "count  6.362620e+06  6.362620e+06   6.362620e+06    6.362620e+06   \n",
       "mean   2.433972e+02  1.798619e+05   8.338831e+05    8.551137e+05   \n",
       "std    1.423320e+02  6.038582e+05   2.888243e+06    2.924049e+06   \n",
       "min    1.000000e+00  0.000000e+00   0.000000e+00    0.000000e+00   \n",
       "25%    1.560000e+02  1.338957e+04   0.000000e+00    0.000000e+00   \n",
       "50%    2.390000e+02  7.487194e+04   1.420800e+04    0.000000e+00   \n",
       "75%    3.350000e+02  2.087215e+05   1.073152e+05    1.442584e+05   \n",
       "max    7.430000e+02  9.244552e+07   5.958504e+07    4.958504e+07   \n",
       "\n",
       "       oldbalanceDest  newbalanceDest       isFraud  isFlaggedFraud  \n",
       "count    6.362620e+06    6.362620e+06  6.362620e+06    6.362620e+06  \n",
       "mean     1.100702e+06    1.224996e+06  1.290820e-03    2.514687e-06  \n",
       "std      3.399180e+06    3.674129e+06  3.590480e-02    1.585775e-03  \n",
       "min      0.000000e+00    0.000000e+00  0.000000e+00    0.000000e+00  \n",
       "25%      0.000000e+00    0.000000e+00  0.000000e+00    0.000000e+00  \n",
       "50%      1.327057e+05    2.146614e+05  0.000000e+00    0.000000e+00  \n",
       "75%      9.430367e+05    1.111909e+06  0.000000e+00    0.000000e+00  \n",
       "max      3.560159e+08    3.561793e+08  1.000000e+00    1.000000e+00  "
      ]
     },
     "execution_count": 6,
     "metadata": {},
     "output_type": "execute_result"
    }
   ],
   "source": [
    "# description of the data\n",
    "fraud_df.describe()"
   ]
  },
  {
   "cell_type": "markdown",
   "id": "ce2b3e8b",
   "metadata": {},
   "source": [
    "## 2. Data Cleaning"
   ]
  },
  {
   "cell_type": "markdown",
   "id": "48d6611e",
   "metadata": {},
   "source": [
    "### 2.1. Remove/Impute missing values "
   ]
  },
  {
   "cell_type": "code",
   "execution_count": 7,
   "id": "fc26201f",
   "metadata": {},
   "outputs": [
    {
     "data": {
      "text/plain": [
       "step              0\n",
       "type              0\n",
       "amount            0\n",
       "nameOrig          0\n",
       "oldbalanceOrg     0\n",
       "newbalanceOrig    0\n",
       "nameDest          0\n",
       "oldbalanceDest    0\n",
       "newbalanceDest    0\n",
       "isFraud           0\n",
       "isFlaggedFraud    0\n",
       "dtype: int64"
      ]
     },
     "execution_count": 7,
     "metadata": {},
     "output_type": "execute_result"
    }
   ],
   "source": [
    "# Checking for null values\n",
    "fraud_df.isnull().sum()"
   ]
  },
  {
   "cell_type": "markdown",
   "id": "83bb4472",
   "metadata": {},
   "source": [
    "This shows that there are **no missing data** in any of the columns."
   ]
  },
  {
   "cell_type": "markdown",
   "id": "231b2e54",
   "metadata": {},
   "source": [
    "### 2.2. Remove Duplicates"
   ]
  },
  {
   "cell_type": "code",
   "execution_count": 8,
   "id": "5dd34a1e",
   "metadata": {},
   "outputs": [
    {
     "data": {
      "text/html": [
       "<div>\n",
       "<style scoped>\n",
       "    .dataframe tbody tr th:only-of-type {\n",
       "        vertical-align: middle;\n",
       "    }\n",
       "\n",
       "    .dataframe tbody tr th {\n",
       "        vertical-align: top;\n",
       "    }\n",
       "\n",
       "    .dataframe thead th {\n",
       "        text-align: right;\n",
       "    }\n",
       "</style>\n",
       "<table border=\"1\" class=\"dataframe\">\n",
       "  <thead>\n",
       "    <tr style=\"text-align: right;\">\n",
       "      <th></th>\n",
       "      <th>step</th>\n",
       "      <th>type</th>\n",
       "      <th>amount</th>\n",
       "      <th>nameOrig</th>\n",
       "      <th>oldbalanceOrg</th>\n",
       "      <th>newbalanceOrig</th>\n",
       "      <th>nameDest</th>\n",
       "      <th>oldbalanceDest</th>\n",
       "      <th>newbalanceDest</th>\n",
       "      <th>isFraud</th>\n",
       "      <th>isFlaggedFraud</th>\n",
       "    </tr>\n",
       "  </thead>\n",
       "  <tbody>\n",
       "  </tbody>\n",
       "</table>\n",
       "</div>"
      ],
      "text/plain": [
       "Empty DataFrame\n",
       "Columns: [step, type, amount, nameOrig, oldbalanceOrg, newbalanceOrig, nameDest, oldbalanceDest, newbalanceDest, isFraud, isFlaggedFraud]\n",
       "Index: []"
      ]
     },
     "execution_count": 8,
     "metadata": {},
     "output_type": "execute_result"
    }
   ],
   "source": [
    "# Checking duplicates\n",
    "fraud_df[fraud_df.duplicated()]"
   ]
  },
  {
   "cell_type": "markdown",
   "id": "8eec5a14",
   "metadata": {},
   "source": [
    "This shows that there are **no duplicates**."
   ]
  },
  {
   "cell_type": "markdown",
   "id": "e291d1f4",
   "metadata": {},
   "source": [
    "### 2.3. Splitting Numerical and Categorical columns"
   ]
  },
  {
   "cell_type": "code",
   "execution_count": 9,
   "id": "a1eca7eb",
   "metadata": {},
   "outputs": [
    {
     "data": {
      "text/plain": [
       "['type', 'nameOrig', 'nameDest']"
      ]
     },
     "execution_count": 9,
     "metadata": {},
     "output_type": "execute_result"
    }
   ],
   "source": [
    "# Categorical columns\n",
    "cat_col = [i for i in fraud_df.drop('isFraud', axis=1).columns if fraud_df[i].dtypes == 'O']\n",
    "cat_col"
   ]
  },
  {
   "cell_type": "code",
   "execution_count": 10,
   "id": "2900d2a4",
   "metadata": {},
   "outputs": [
    {
     "data": {
      "text/plain": [
       "['step',\n",
       " 'amount',\n",
       " 'oldbalanceOrg',\n",
       " 'newbalanceOrig',\n",
       " 'oldbalanceDest',\n",
       " 'newbalanceDest',\n",
       " 'isFlaggedFraud']"
      ]
     },
     "execution_count": 10,
     "metadata": {},
     "output_type": "execute_result"
    }
   ],
   "source": [
    "# Numeric columns\n",
    "num_col = [i for i in fraud_df.drop('isFraud', axis=1).columns if fraud_df[i].dtypes != 'O']\n",
    "num_col"
   ]
  },
  {
   "cell_type": "code",
   "execution_count": 11,
   "id": "49530ad2",
   "metadata": {},
   "outputs": [],
   "source": [
    "# dropping columns\n",
    "fraud_df.drop(['nameOrig', 'nameDest'], axis=1, inplace=True)"
   ]
  },
  {
   "cell_type": "markdown",
   "id": "184052cb",
   "metadata": {},
   "source": [
    "The above mentioned columns have been dropped as they could not be useful in upcoming analysis"
   ]
  },
  {
   "cell_type": "markdown",
   "id": "d5275966",
   "metadata": {},
   "source": [
    "### 2.4. Remove Outliers"
   ]
  },
  {
   "cell_type": "markdown",
   "id": "8cfd6c10",
   "metadata": {},
   "source": [
    "#### Checking outliers through Boxplot"
   ]
  },
  {
   "cell_type": "code",
   "execution_count": 12,
   "id": "3e0d6297",
   "metadata": {},
   "outputs": [
    {
     "data": {
      "image/png": "[encoded data removed]",
      "text/plain": [
       "<Figure size 900x300 with 1 Axes>"
      ]
     },
     "metadata": {},
     "output_type": "display_data"
    }
   ],
   "source": [
    "# Amount\n",
    "plt.figure(figsize=[9,3])\n",
    "sns.boxplot(x='amount', data=fraud_df)\n",
    "plt.ylabel('distribution')\n",
    "plt.show()"
   ]
  },
  {
   "cell_type": "code",
   "execution_count": 13,
   "id": "020ae68b",
   "metadata": {},
   "outputs": [
    {
     "data": {
      "image/png": "[encoded data removed]",
      "text/plain": [
       "<Figure size 900x300 with 1 Axes>"
      ]
     },
     "metadata": {},
     "output_type": "display_data"
    }
   ],
   "source": [
    "# oldbalanceOrg\n",
    "plt.figure(figsize=[9,3])\n",
    "sns.boxplot(x='oldbalanceOrg', data=fraud_df)\n",
    "plt.ylabel('distribution')\n",
    "plt.show()"
   ]
  },
  {
   "cell_type": "code",
   "execution_count": 14,
   "id": "fe37b6dd",
   "metadata": {},
   "outputs": [
    {
     "data": {
      "image/png": "[encoded data removed]",
      "text/plain": [
       "<Figure size 900x300 with 1 Axes>"
      ]
     },
     "metadata": {},
     "output_type": "display_data"
    }
   ],
   "source": [
    "# newbalanceOrig\n",
    "plt.figure(figsize=[9,3])\n",
    "sns.boxplot(x='newbalanceOrig', data=fraud_df)\n",
    "plt.ylabel('distribution')\n",
    "plt.show()"
   ]
  },
  {
   "cell_type": "code",
   "execution_count": 15,
   "id": "a8560e62",
   "metadata": {},
   "outputs": [
    {
     "data": {
      "image/png": "[encoded data removed]",
      "text/plain": [
       "<Figure size 900x300 with 1 Axes>"
      ]
     },
     "metadata": {},
     "output_type": "display_data"
    }
   ],
   "source": [
    "# oldbalanceDest\n",
    "plt.figure(figsize=[9,3])\n",
    "sns.boxplot(x='oldbalanceDest', data=fraud_df)\n",
    "plt.ylabel('distribution')\n",
    "plt.show()"
   ]
  },
  {
   "cell_type": "code",
   "execution_count": 16,
   "id": "64b78a1f",
   "metadata": {},
   "outputs": [
    {
     "data": {
      "image/png": "[encoded data removed]",
      "text/plain": [
       "<Figure size 900x300 with 1 Axes>"
      ]
     },
     "metadata": {},
     "output_type": "display_data"
    }
   ],
   "source": [
    "# newbalanceDest\n",
    "plt.figure(figsize=[9,3])\n",
    "sns.boxplot(x='newbalanceDest', data=fraud_df)\n",
    "plt.ylabel('distribution')\n",
    "plt.show()"
   ]
  },
  {
   "cell_type": "markdown",
   "id": "d943caab",
   "metadata": {},
   "source": [
    "There are certain oultliers present in the numeric columns"
   ]
  },
  {
   "cell_type": "markdown",
   "id": "dd7d92cd",
   "metadata": {},
   "source": [
    "#### Removing outliers"
   ]
  },
  {
   "cell_type": "code",
   "execution_count": 17,
   "id": "4126603d",
   "metadata": {},
   "outputs": [],
   "source": [
    "# creating function to remove outliers\n",
    "def remove_outliers(df,col):\n",
    "    lower_quantile = df[col].quantile(0.25)\n",
    "    upper_quantile = df[col].quantile(0.75)\n",
    "    IQR = upper_quantile - lower_quantile\n",
    "    lower_whisker = lower_quantile - 1.5 * IQR\n",
    "    upper_whisker = upper_quantile + 1.5 * IQR\n",
    "    temp = df.loc[(df[col]>lower_whisker)&(df[col]<upper_whisker)]\n",
    "    return temp[col]"
   ]
  },
  {
   "cell_type": "code",
   "execution_count": 18,
   "id": "90d7489d",
   "metadata": {},
   "outputs": [],
   "source": [
    "# calling the function to remove outliers\n",
    "fraud_df['amount'] = remove_outliers(fraud_df, 'amount')\n",
    "fraud_df['oldbalanceOrg'] = remove_outliers(fraud_df, 'oldbalanceOrg')\n",
    "fraud_df['newbalanceOrig'] = remove_outliers(fraud_df, 'newbalanceOrig')\n",
    "fraud_df['oldbalanceDest'] = remove_outliers(fraud_df, 'oldbalanceDest')\n",
    "fraud_df['newbalanceDest'] = remove_outliers(fraud_df, 'newbalanceDest')"
   ]
  },
  {
   "cell_type": "markdown",
   "id": "fd8e78fd",
   "metadata": {},
   "source": [
    "The outliers have been removed."
   ]
  },
  {
   "cell_type": "markdown",
   "id": "986ed377",
   "metadata": {},
   "source": [
    "## 3. Exploratory Data Analysis"
   ]
  },
  {
   "cell_type": "markdown",
   "id": "e0606f7e",
   "metadata": {},
   "source": [
    "### 3.1. Correlation of numeric data"
   ]
  },
  {
   "cell_type": "code",
   "execution_count": 19,
   "id": "f32c3665",
   "metadata": {},
   "outputs": [
    {
     "data": {
      "image/png": "[encoded data removed]",
      "text/plain": [
       "<Figure size 1000x500 with 2 Axes>"
      ]
     },
     "metadata": {},
     "output_type": "display_data"
    }
   ],
   "source": [
    "# checking for multicollinearity\n",
    "plt.figure(figsize=[10,5])\n",
    "sns.heatmap(fraud_df[num_col].corr(), annot=True, cmap='RdYlGn')\n",
    "plt.show()"
   ]
  },
  {
   "cell_type": "markdown",
   "id": "2cd8bf2d",
   "metadata": {},
   "source": [
    "Aforementioned plot shows that the **old and new transactions** of both **sender's** and **reciepient's** are **highly correlated** with each other."
   ]
  },
  {
   "cell_type": "markdown",
   "id": "23f5c93f",
   "metadata": {},
   "source": [
    "### 3.2. Univariate Analysis"
   ]
  },
  {
   "cell_type": "markdown",
   "id": "31ed1e0a",
   "metadata": {},
   "source": [
    "#### Target variable 'isFraud'"
   ]
  },
  {
   "cell_type": "code",
   "execution_count": 20,
   "id": "055c48c8",
   "metadata": {},
   "outputs": [
    {
     "name": "stdout",
     "output_type": "stream",
     "text": [
      "0    6354407\n",
      "1       8213\n",
      "Name: isFraud, dtype: int64\n"
     ]
    },
    {
     "data": {
      "image/png": "[encoded data removed]",
      "text/plain": [
       "<Figure size 640x480 with 1 Axes>"
      ]
     },
     "metadata": {},
     "output_type": "display_data"
    }
   ],
   "source": [
    "# value count\n",
    "print(fraud_df.isFraud.value_counts())\n",
    "\n",
    "# pie plot for the value count\n",
    "plt.pie(fraud_df.isFraud.value_counts(),explode=[0.1, 0], \n",
    "        labels=['No Fraud', 'Fraud'], shadow=True, autopct='%1.1f%%')\n",
    "plt.show()"
   ]
  },
  {
   "cell_type": "markdown",
   "id": "87361259",
   "metadata": {},
   "source": [
    "Aforementioned plot shows a **high imbalance** in the dataset due to tiny ratio of frauds to non-frauds."
   ]
  },
  {
   "cell_type": "markdown",
   "id": "65a6375a",
   "metadata": {},
   "source": [
    "#### Type of payment"
   ]
  },
  {
   "cell_type": "code",
   "execution_count": 21,
   "id": "74593d7e",
   "metadata": {},
   "outputs": [
    {
     "data": {
      "image/png": "[encoded data removed]",
      "text/plain": [
       "<Figure size 640x480 with 1 Axes>"
      ]
     },
     "metadata": {},
     "output_type": "display_data"
    }
   ],
   "source": [
    "# pie plot for the value count of each category \n",
    "values = fraud_df['type'].value_counts().values\n",
    "labels = fraud_df['type'].value_counts().keys()\n",
    "explode = (0.1,0,0,0,0)\n",
    "\n",
    "plt.pie(values, labels=labels, explode=explode, shadow=True, autopct='%1.1f%%')\n",
    "plt.show()"
   ]
  },
  {
   "cell_type": "markdown",
   "id": "f8cb3925",
   "metadata": {},
   "source": [
    "A vast majority of the transactions are of the type CASH_OUT having an overall proportion of a little more than one-third, closely followed by Payment mode having a share of nearly 34%. The proportion of CASH_IN transaction stood at just over one-fifth, even though, the percentage of debit and normal transfer transactions had a minimal share of less than one-tenth."
   ]
  },
  {
   "cell_type": "markdown",
   "id": "2fe684b5",
   "metadata": {},
   "source": [
    "#### isFlaggedFraud"
   ]
  },
  {
   "cell_type": "code",
   "execution_count": 22,
   "id": "b6b08219",
   "metadata": {},
   "outputs": [
    {
     "name": "stdout",
     "output_type": "stream",
     "text": [
      "0    0.999997\n",
      "1    0.000003\n",
      "Name: isFlaggedFraud, dtype: float64\n"
     ]
    },
    {
     "data": {
      "image/png": "[encoded data removed]",
      "text/plain": [
       "<Figure size 640x480 with 1 Axes>"
      ]
     },
     "metadata": {},
     "output_type": "display_data"
    }
   ],
   "source": [
    "# value count\n",
    "print(fraud_df.isFlaggedFraud.value_counts(normalize = True))\n",
    "\n",
    "# pie plot for the value count\n",
    "plt.pie(fraud_df.isFlaggedFraud.value_counts(),explode=[0.1, 0], \n",
    "        labels=['No Fraud', 'Flagged_Fraud'], shadow=True, autopct='%1.1f%%')\n",
    "plt.show()"
   ]
  },
  {
   "cell_type": "markdown",
   "id": "70677450",
   "metadata": {},
   "source": [
    "Above plot shows the ratio of Flaaged frauds to No frauds is negligible."
   ]
  },
  {
   "cell_type": "markdown",
   "id": "fc091f7b",
   "metadata": {},
   "source": [
    "#### Amount"
   ]
  },
  {
   "cell_type": "code",
   "execution_count": 23,
   "id": "35afed0d",
   "metadata": {},
   "outputs": [
    {
     "data": {
      "image/png": "[encoded data removed]",
      "text/plain": [
       "<Figure size 500x500 with 1 Axes>"
      ]
     },
     "metadata": {},
     "output_type": "display_data"
    }
   ],
   "source": [
    "# distplot\n",
    "sns.displot(data=fraud_df, x='amount')\n",
    "plt.show()"
   ]
  },
  {
   "cell_type": "markdown",
   "id": "204d9522",
   "metadata": {},
   "source": [
    "All the balances, either old or new, of both the sender as well as the receiver have a positively right skewed distribution."
   ]
  },
  {
   "cell_type": "markdown",
   "id": "68cbb1a5",
   "metadata": {},
   "source": [
    "#### Plot of the Amount of fraud cases"
   ]
  },
  {
   "cell_type": "code",
   "execution_count": 24,
   "id": "7e83b0cf",
   "metadata": {},
   "outputs": [
    {
     "data": {
      "image/png": "[encoded data removed]",
      "text/plain": [
       "<Figure size 640x480 with 1 Axes>"
      ]
     },
     "metadata": {},
     "output_type": "display_data"
    }
   ],
   "source": [
    "# distplot of amount of fraud cases \n",
    "positive_fraud_case = fraud_df[fraud_df.isFraud == 1]\n",
    "sns.distplot(positive_fraud_case['amount'])\n",
    "plt.xlabel('Amount of Frauds')\n",
    "plt.show()"
   ]
  },
  {
   "cell_type": "markdown",
   "id": "8e1a042c",
   "metadata": {},
   "source": [
    "#### Plot of the Amount of Non-fraud cases"
   ]
  },
  {
   "cell_type": "code",
   "execution_count": 25,
   "id": "f57731e3",
   "metadata": {},
   "outputs": [
    {
     "data": {
      "image/png": "[encoded data removed]",
      "text/plain": [
       "<Figure size 640x480 with 1 Axes>"
      ]
     },
     "metadata": {},
     "output_type": "display_data"
    }
   ],
   "source": [
    "# distplot of amount of non-fraud cases \n",
    "non_fraud_case = fraud_df[fraud_df.isFraud == 0]\n",
    "sns.distplot(non_fraud_case['amount'])\n",
    "plt.xlabel('Amount of Non-Frauds')\n",
    "plt.show()"
   ]
  },
  {
   "cell_type": "markdown",
   "id": "59a54a52",
   "metadata": {},
   "source": [
    "### 3.3. Bivariate Analysis"
   ]
  },
  {
   "cell_type": "markdown",
   "id": "c2b7b867",
   "metadata": {},
   "source": [
    "#### amount and payment types"
   ]
  },
  {
   "cell_type": "code",
   "execution_count": 26,
   "id": "b8df78bd",
   "metadata": {},
   "outputs": [
    {
     "data": {
      "text/html": [
       "<div>\n",
       "<style scoped>\n",
       "    .dataframe tbody tr th:only-of-type {\n",
       "        vertical-align: middle;\n",
       "    }\n",
       "\n",
       "    .dataframe tbody tr th {\n",
       "        vertical-align: top;\n",
       "    }\n",
       "\n",
       "    .dataframe thead th {\n",
       "        text-align: right;\n",
       "    }\n",
       "</style>\n",
       "<table border=\"1\" class=\"dataframe\">\n",
       "  <thead>\n",
       "    <tr style=\"text-align: right;\">\n",
       "      <th></th>\n",
       "      <th>type</th>\n",
       "      <th>amount</th>\n",
       "    </tr>\n",
       "  </thead>\n",
       "  <tbody>\n",
       "    <tr>\n",
       "      <th>0</th>\n",
       "      <td>CASH_OUT</td>\n",
       "      <td>501718.41</td>\n",
       "    </tr>\n",
       "    <tr>\n",
       "      <th>1</th>\n",
       "      <td>CASH_IN</td>\n",
       "      <td>501718.02</td>\n",
       "    </tr>\n",
       "    <tr>\n",
       "      <th>2</th>\n",
       "      <td>TRANSFER</td>\n",
       "      <td>501709.63</td>\n",
       "    </tr>\n",
       "    <tr>\n",
       "      <th>3</th>\n",
       "      <td>DEBIT</td>\n",
       "      <td>417825.07</td>\n",
       "    </tr>\n",
       "    <tr>\n",
       "      <th>4</th>\n",
       "      <td>PAYMENT</td>\n",
       "      <td>238637.98</td>\n",
       "    </tr>\n",
       "  </tbody>\n",
       "</table>\n",
       "</div>"
      ],
      "text/plain": [
       "       type     amount\n",
       "0  CASH_OUT  501718.41\n",
       "1   CASH_IN  501718.02\n",
       "2  TRANSFER  501709.63\n",
       "3     DEBIT  417825.07\n",
       "4   PAYMENT  238637.98"
      ]
     },
     "execution_count": 26,
     "metadata": {},
     "output_type": "execute_result"
    }
   ],
   "source": [
    "# max amount for each type\n",
    "max_amount_type = fraud_df.groupby('type')['amount'].max().sort_values(ascending=False).reset_index()[:10]\n",
    "max_amount_type"
   ]
  },
  {
   "cell_type": "code",
   "execution_count": 27,
   "id": "b21a5325",
   "metadata": {},
   "outputs": [
    {
     "data": {
      "image/png": "[encoded data removed]",
      "text/plain": [
       "<Figure size 640x480 with 1 Axes>"
      ]
     },
     "metadata": {},
     "output_type": "display_data"
    }
   ],
   "source": [
    "# barplot for max amount of each type of payment\n",
    "sns.barplot(x='type', y='amount', data=max_amount_type, palette='magma')\n",
    "plt.show()"
   ]
  },
  {
   "cell_type": "markdown",
   "id": "f38bb287",
   "metadata": {},
   "source": [
    "## 4. Data Pre-Processing"
   ]
  },
  {
   "cell_type": "markdown",
   "id": "6050c8ad",
   "metadata": {},
   "source": [
    "### 4.1. Dummy variables"
   ]
  },
  {
   "cell_type": "code",
   "execution_count": 28,
   "id": "7b5670c0",
   "metadata": {},
   "outputs": [
    {
     "data": {
      "text/html": [
       "<div>\n",
       "<style scoped>\n",
       "    .dataframe tbody tr th:only-of-type {\n",
       "        vertical-align: middle;\n",
       "    }\n",
       "\n",
       "    .dataframe tbody tr th {\n",
       "        vertical-align: top;\n",
       "    }\n",
       "\n",
       "    .dataframe thead th {\n",
       "        text-align: right;\n",
       "    }\n",
       "</style>\n",
       "<table border=\"1\" class=\"dataframe\">\n",
       "  <thead>\n",
       "    <tr style=\"text-align: right;\">\n",
       "      <th></th>\n",
       "      <th>step</th>\n",
       "      <th>type</th>\n",
       "      <th>amount</th>\n",
       "      <th>oldbalanceOrg</th>\n",
       "      <th>newbalanceOrig</th>\n",
       "      <th>oldbalanceDest</th>\n",
       "      <th>newbalanceDest</th>\n",
       "      <th>isFraud</th>\n",
       "      <th>isFlaggedFraud</th>\n",
       "      <th>type_CASH_OUT</th>\n",
       "      <th>type_DEBIT</th>\n",
       "      <th>type_PAYMENT</th>\n",
       "      <th>type_TRANSFER</th>\n",
       "    </tr>\n",
       "  </thead>\n",
       "  <tbody>\n",
       "    <tr>\n",
       "      <th>0</th>\n",
       "      <td>1</td>\n",
       "      <td>PAYMENT</td>\n",
       "      <td>9839.64</td>\n",
       "      <td>170136.00</td>\n",
       "      <td>160296.36</td>\n",
       "      <td>0.0</td>\n",
       "      <td>0.00</td>\n",
       "      <td>0</td>\n",
       "      <td>0</td>\n",
       "      <td>0</td>\n",
       "      <td>0</td>\n",
       "      <td>1</td>\n",
       "      <td>0</td>\n",
       "    </tr>\n",
       "    <tr>\n",
       "      <th>1</th>\n",
       "      <td>1</td>\n",
       "      <td>PAYMENT</td>\n",
       "      <td>1864.28</td>\n",
       "      <td>21249.00</td>\n",
       "      <td>19384.72</td>\n",
       "      <td>0.0</td>\n",
       "      <td>0.00</td>\n",
       "      <td>0</td>\n",
       "      <td>0</td>\n",
       "      <td>0</td>\n",
       "      <td>0</td>\n",
       "      <td>1</td>\n",
       "      <td>0</td>\n",
       "    </tr>\n",
       "    <tr>\n",
       "      <th>2</th>\n",
       "      <td>1</td>\n",
       "      <td>TRANSFER</td>\n",
       "      <td>181.00</td>\n",
       "      <td>181.00</td>\n",
       "      <td>0.00</td>\n",
       "      <td>0.0</td>\n",
       "      <td>0.00</td>\n",
       "      <td>1</td>\n",
       "      <td>0</td>\n",
       "      <td>0</td>\n",
       "      <td>0</td>\n",
       "      <td>0</td>\n",
       "      <td>1</td>\n",
       "    </tr>\n",
       "    <tr>\n",
       "      <th>3</th>\n",
       "      <td>1</td>\n",
       "      <td>CASH_OUT</td>\n",
       "      <td>181.00</td>\n",
       "      <td>181.00</td>\n",
       "      <td>0.00</td>\n",
       "      <td>21182.0</td>\n",
       "      <td>0.00</td>\n",
       "      <td>1</td>\n",
       "      <td>0</td>\n",
       "      <td>1</td>\n",
       "      <td>0</td>\n",
       "      <td>0</td>\n",
       "      <td>0</td>\n",
       "    </tr>\n",
       "    <tr>\n",
       "      <th>4</th>\n",
       "      <td>1</td>\n",
       "      <td>PAYMENT</td>\n",
       "      <td>11668.14</td>\n",
       "      <td>41554.00</td>\n",
       "      <td>29885.86</td>\n",
       "      <td>0.0</td>\n",
       "      <td>0.00</td>\n",
       "      <td>0</td>\n",
       "      <td>0</td>\n",
       "      <td>0</td>\n",
       "      <td>0</td>\n",
       "      <td>1</td>\n",
       "      <td>0</td>\n",
       "    </tr>\n",
       "    <tr>\n",
       "      <th>5</th>\n",
       "      <td>1</td>\n",
       "      <td>PAYMENT</td>\n",
       "      <td>7817.71</td>\n",
       "      <td>53860.00</td>\n",
       "      <td>46042.29</td>\n",
       "      <td>0.0</td>\n",
       "      <td>0.00</td>\n",
       "      <td>0</td>\n",
       "      <td>0</td>\n",
       "      <td>0</td>\n",
       "      <td>0</td>\n",
       "      <td>1</td>\n",
       "      <td>0</td>\n",
       "    </tr>\n",
       "    <tr>\n",
       "      <th>6</th>\n",
       "      <td>1</td>\n",
       "      <td>PAYMENT</td>\n",
       "      <td>7107.77</td>\n",
       "      <td>183195.00</td>\n",
       "      <td>176087.23</td>\n",
       "      <td>0.0</td>\n",
       "      <td>0.00</td>\n",
       "      <td>0</td>\n",
       "      <td>0</td>\n",
       "      <td>0</td>\n",
       "      <td>0</td>\n",
       "      <td>1</td>\n",
       "      <td>0</td>\n",
       "    </tr>\n",
       "    <tr>\n",
       "      <th>7</th>\n",
       "      <td>1</td>\n",
       "      <td>PAYMENT</td>\n",
       "      <td>7861.64</td>\n",
       "      <td>176087.23</td>\n",
       "      <td>168225.59</td>\n",
       "      <td>0.0</td>\n",
       "      <td>0.00</td>\n",
       "      <td>0</td>\n",
       "      <td>0</td>\n",
       "      <td>0</td>\n",
       "      <td>0</td>\n",
       "      <td>1</td>\n",
       "      <td>0</td>\n",
       "    </tr>\n",
       "    <tr>\n",
       "      <th>8</th>\n",
       "      <td>1</td>\n",
       "      <td>PAYMENT</td>\n",
       "      <td>4024.36</td>\n",
       "      <td>2671.00</td>\n",
       "      <td>0.00</td>\n",
       "      <td>0.0</td>\n",
       "      <td>0.00</td>\n",
       "      <td>0</td>\n",
       "      <td>0</td>\n",
       "      <td>0</td>\n",
       "      <td>0</td>\n",
       "      <td>1</td>\n",
       "      <td>0</td>\n",
       "    </tr>\n",
       "    <tr>\n",
       "      <th>9</th>\n",
       "      <td>1</td>\n",
       "      <td>DEBIT</td>\n",
       "      <td>5337.77</td>\n",
       "      <td>41720.00</td>\n",
       "      <td>36382.23</td>\n",
       "      <td>41898.0</td>\n",
       "      <td>40348.79</td>\n",
       "      <td>0</td>\n",
       "      <td>0</td>\n",
       "      <td>0</td>\n",
       "      <td>1</td>\n",
       "      <td>0</td>\n",
       "      <td>0</td>\n",
       "    </tr>\n",
       "  </tbody>\n",
       "</table>\n",
       "</div>"
      ],
      "text/plain": [
       "   step      type    amount  oldbalanceOrg  newbalanceOrig  oldbalanceDest  \\\n",
       "0     1   PAYMENT   9839.64      170136.00       160296.36             0.0   \n",
       "1     1   PAYMENT   1864.28       21249.00        19384.72             0.0   \n",
       "2     1  TRANSFER    181.00         181.00            0.00             0.0   \n",
       "3     1  CASH_OUT    181.00         181.00            0.00         21182.0   \n",
       "4     1   PAYMENT  11668.14       41554.00        29885.86             0.0   \n",
       "5     1   PAYMENT   7817.71       53860.00        46042.29             0.0   \n",
       "6     1   PAYMENT   7107.77      183195.00       176087.23             0.0   \n",
       "7     1   PAYMENT   7861.64      176087.23       168225.59             0.0   \n",
       "8     1   PAYMENT   4024.36        2671.00            0.00             0.0   \n",
       "9     1     DEBIT   5337.77       41720.00        36382.23         41898.0   \n",
       "\n",
       "   newbalanceDest  isFraud  isFlaggedFraud  type_CASH_OUT  type_DEBIT  \\\n",
       "0            0.00        0               0              0           0   \n",
       "1            0.00        0               0              0           0   \n",
       "2            0.00        1               0              0           0   \n",
       "3            0.00        1               0              1           0   \n",
       "4            0.00        0               0              0           0   \n",
       "5            0.00        0               0              0           0   \n",
       "6            0.00        0               0              0           0   \n",
       "7            0.00        0               0              0           0   \n",
       "8            0.00        0               0              0           0   \n",
       "9        40348.79        0               0              0           1   \n",
       "\n",
       "   type_PAYMENT  type_TRANSFER  \n",
       "0             1              0  \n",
       "1             1              0  \n",
       "2             0              1  \n",
       "3             0              0  \n",
       "4             1              0  \n",
       "5             1              0  \n",
       "6             1              0  \n",
       "7             1              0  \n",
       "8             1              0  \n",
       "9             0              0  "
      ]
     },
     "execution_count": 28,
     "metadata": {},
     "output_type": "execute_result"
    }
   ],
   "source": [
    "# Creating dummy variables\n",
    "payment_types = pd.get_dummies(fraud_df.type, prefix='type', drop_first=True)\n",
    "fraud_df = pd.concat([fraud_df,payment_types], axis=1)\n",
    "fraud_df.head(10)"
   ]
  },
  {
   "cell_type": "code",
   "execution_count": 29,
   "id": "3327de32",
   "metadata": {},
   "outputs": [],
   "source": [
    "# dropping the type column\n",
    "fraud_df.drop('type', axis=1, inplace=True)"
   ]
  },
  {
   "cell_type": "code",
   "execution_count": 30,
   "id": "1e9380f9",
   "metadata": {},
   "outputs": [],
   "source": [
    "# converting the datatypes of dummy variables into 'int64'\n",
    "fraud_df['type_CASH_OUT'] = fraud_df['type_CASH_OUT'].astype(np.int64)\n",
    "fraud_df['type_DEBIT'] = fraud_df['type_DEBIT'].astype(np.int64)\n",
    "fraud_df['type_PAYMENT'] = fraud_df['type_PAYMENT'].astype(np.int64)\n",
    "fraud_df['type_TRANSFER'] = fraud_df['type_TRANSFER'].astype(np.int64)"
   ]
  },
  {
   "cell_type": "code",
   "execution_count": 31,
   "id": "2552756d",
   "metadata": {},
   "outputs": [
    {
     "data": {
      "text/plain": [
       "step                int64\n",
       "amount            float64\n",
       "oldbalanceOrg     float64\n",
       "newbalanceOrig    float64\n",
       "oldbalanceDest    float64\n",
       "newbalanceDest    float64\n",
       "isFraud             int64\n",
       "isFlaggedFraud      int64\n",
       "type_CASH_OUT       int64\n",
       "type_DEBIT          int64\n",
       "type_PAYMENT        int64\n",
       "type_TRANSFER       int64\n",
       "dtype: object"
      ]
     },
     "execution_count": 31,
     "metadata": {},
     "output_type": "execute_result"
    }
   ],
   "source": [
    "# checking the datatypes of the columns\n",
    "fraud_df.dtypes"
   ]
  },
  {
   "cell_type": "markdown",
   "id": "cac8bf7d",
   "metadata": {},
   "source": [
    "### 4.2. Splitting of data"
   ]
  },
  {
   "cell_type": "code",
   "execution_count": 32,
   "id": "23cf63a7",
   "metadata": {},
   "outputs": [],
   "source": [
    "# min-max normalization \n",
    "fraud_df['amount'].fillna(fraud_df['amount'].mean(),inplace=True)\n",
    "fraud_df['oldbalanceOrg'].fillna(fraud_df['oldbalanceOrg'].mean(),inplace=True)\n",
    "fraud_df['newbalanceOrig'].fillna(fraud_df['newbalanceOrig'].mean(),inplace=True)\n",
    "fraud_df['oldbalanceDest'].fillna(fraud_df['oldbalanceDest'].mean(),inplace=True)\n",
    "fraud_df['newbalanceDest'].fillna(fraud_df['newbalanceDest'].mean(),inplace=True)"
   ]
  },
  {
   "cell_type": "code",
   "execution_count": 33,
   "id": "3fd9a1eb",
   "metadata": {},
   "outputs": [],
   "source": [
    "# split data into X and y\n",
    "X = fraud_df.drop('isFraud', axis=1)\n",
    "y = fraud_df.isFraud"
   ]
  },
  {
   "cell_type": "markdown",
   "id": "f1ded51b",
   "metadata": {},
   "source": [
    "The **target variable(y)** is **predominantly imbalanced** which may hamper the predictive accuracy of the models as the predictions may be solely made on the basis of the 'majority class', thereby completely neglecting the 'minority class' as a consequence."
   ]
  },
  {
   "cell_type": "markdown",
   "id": "de5d936a",
   "metadata": {},
   "source": [
    "## 5. Model Training and Evaluation"
   ]
  },
  {
   "cell_type": "markdown",
   "id": "114b1ffa",
   "metadata": {},
   "source": [
    "### 5.1. Data modelling"
   ]
  },
  {
   "cell_type": "code",
   "execution_count": 34,
   "id": "ed4d5707",
   "metadata": {},
   "outputs": [],
   "source": [
    "# import required libraries\n",
    "from sklearn.model_selection import train_test_split\n",
    "from sklearn.pipeline import Pipeline\n",
    "from sklearn.decomposition import PCA\n",
    "from sklearn.preprocessing import MinMaxScaler\n",
    "from sklearn.pipeline import FeatureUnion\n",
    "from sklearn.base import BaseEstimator, TransformerMixin\n",
    "from sklearn.linear_model import LogisticRegression\n",
    "from sklearn.metrics import classification_report\n",
    "from sklearn.metrics import roc_auc_score\n",
    "from sklearn.model_selection import StratifiedKFold\n",
    "from sklearn.model_selection import cross_val_score\n",
    "from sklearn.metrics import confusion_matrix, ConfusionMatrixDisplay\n",
    "from sklearn.model_selection import GridSearchCV\n",
    "from sklearn import metrics"
   ]
  },
  {
   "cell_type": "code",
   "execution_count": 35,
   "id": "20673607",
   "metadata": {},
   "outputs": [
    {
     "name": "stdout",
     "output_type": "stream",
     "text": [
      "dimensions of training data:  (4453834, 11) \n",
      " dimensions of testing data:  (1908786, 11)\n"
     ]
    }
   ],
   "source": [
    "# train-test split\n",
    "X_train, X_test, y_train, y_test = train_test_split(X, y, test_size=0.3, random_state=2000)\n",
    "print('dimensions of training data: ',X_train.shape,'\\n',\n",
    "     'dimensions of testing data: ',X_test.shape)"
   ]
  },
  {
   "cell_type": "markdown",
   "id": "3be886fc",
   "metadata": {},
   "source": [
    "### Principal Component Analysis (PCA)"
   ]
  },
  {
   "cell_type": "code",
   "execution_count": 36,
   "id": "a3b785bd",
   "metadata": {},
   "outputs": [],
   "source": [
    "# apply pca to train data\n",
    "pca = Pipeline([('scaler', MinMaxScaler()), ('pca', PCA())])"
   ]
  },
  {
   "cell_type": "code",
   "execution_count": 37,
   "id": "77f0fe4c",
   "metadata": {},
   "outputs": [],
   "source": [
    "# fitting the model\n",
    "pca.fit(X_train)\n",
    "train_pca = pca.fit_transform(X_train)"
   ]
  },
  {
   "cell_type": "code",
   "execution_count": 38,
   "id": "7c80166c",
   "metadata": {},
   "outputs": [
    {
     "name": "stdout",
     "output_type": "stream",
     "text": [
      "0      49.02\n",
      "1      67.95\n",
      "2      75.98\n",
      "3      82.93\n",
      "4      87.62\n",
      "5      92.22\n",
      "6      96.21\n",
      "7      98.27\n",
      "8      99.23\n",
      "9     100.00\n",
      "10    100.00\n",
      "dtype: float64\n"
     ]
    }
   ],
   "source": [
    "# extract pca model from pipeline\n",
    "pca = pca.named_steps['pca']\n",
    "\n",
    "# look at explained variance of PCA components\n",
    "print(pd.Series(np.round(pca.explained_variance_ratio_.cumsum(), 4)*100))"
   ]
  },
  {
   "cell_type": "code",
   "execution_count": 39,
   "id": "42016c6e",
   "metadata": {},
   "outputs": [
    {
     "data": {
      "image/png": "[encoded data removed]",
      "text/plain": [
       "<Figure size 875x500 with 1 Axes>"
      ]
     },
     "metadata": {},
     "output_type": "display_data"
    }
   ],
   "source": [
    "# plot feature variance\n",
    "features = range(pca.n_components_)\n",
    "cumulative_variance = np.round(np.cumsum(pca.explained_variance_ratio_)*100, decimals=4)\n",
    "plt.figure(figsize=(175/20,100/20)) # 100 elements on y-axis; 175 elements on x-axis; 20 is normalising factor\n",
    "plt.xlabel('no. of pca components')\n",
    "plt.ylabel('Variance ratio')\n",
    "plt.plot(cumulative_variance)\n",
    "plt.show()"
   ]
  },
  {
   "cell_type": "markdown",
   "id": "f9db03ed",
   "metadata": {},
   "source": [
    "### PCA and Logistic Regression"
   ]
  },
  {
   "cell_type": "code",
   "execution_count": 40,
   "id": "5b6f0221",
   "metadata": {},
   "outputs": [],
   "source": [
    "# create pipeline\n",
    "PCA_VARS = 6\n",
    "steps = [('scaler', MinMaxScaler()),\n",
    "         (\"pca\", PCA(n_components=PCA_VARS)),\n",
    "         (\"logistic\", LogisticRegression(class_weight='balanced'))\n",
    "        ]\n",
    "pipeline = Pipeline(steps)"
   ]
  },
  {
   "cell_type": "markdown",
   "id": "2410969f",
   "metadata": {},
   "source": [
    "#### Model Training"
   ]
  },
  {
   "cell_type": "code",
   "execution_count": 41,
   "id": "424f467c",
   "metadata": {},
   "outputs": [
    {
     "data": {
      "text/plain": [
       "0.810287945172631"
      ]
     },
     "execution_count": 41,
     "metadata": {},
     "output_type": "execute_result"
    }
   ],
   "source": [
    "# fit model\n",
    "pipeline.fit(X_train, y_train)\n",
    "\n",
    "# check score on train data\n",
    "pipeline.score(X_train, y_train)"
   ]
  },
  {
   "cell_type": "markdown",
   "id": "2ea52930",
   "metadata": {},
   "source": [
    "#### Predictions on train data"
   ]
  },
  {
   "cell_type": "code",
   "execution_count": 42,
   "id": "b4363b7a",
   "metadata": {},
   "outputs": [],
   "source": [
    "# predictions on train data\n",
    "y_train_pred = pipeline.predict(X_train)"
   ]
  },
  {
   "cell_type": "code",
   "execution_count": 43,
   "id": "a5b247d7",
   "metadata": {},
   "outputs": [
    {
     "name": "stdout",
     "output_type": "stream",
     "text": [
      "classification report for train data:\n",
      "               precision    recall  f1-score   support\n",
      "\n",
      "           0       1.00      0.81      0.90   4448045\n",
      "           1       0.01      0.91      0.01      5789\n",
      "\n",
      "    accuracy                           0.81   4453834\n",
      "   macro avg       0.50      0.86      0.45   4453834\n",
      "weighted avg       1.00      0.81      0.89   4453834\n",
      "\n",
      "None\n",
      "AUC:    \t 0.94\n"
     ]
    }
   ],
   "source": [
    "# classification report on train data predictions\n",
    "print(print(\"classification report for train data:\\n\",classification_report(y_train, y_train_pred)))\n",
    "\n",
    "# check area under curve\n",
    "y_train_pred_prob = pipeline.predict_proba(X_train)[:, 1]\n",
    "print(\"AUC:    \\t\", round(roc_auc_score(y_train, y_train_pred_prob),2))"
   ]
  },
  {
   "cell_type": "code",
   "execution_count": 44,
   "id": "3d733cef",
   "metadata": {},
   "outputs": [
    {
     "data": {
      "image/png": "[encoded data removed]",
      "text/plain": [
       "<Figure size 640x480 with 2 Axes>"
      ]
     },
     "metadata": {},
     "output_type": "display_data"
    }
   ],
   "source": [
    "# confusion matrix on train data predictions\n",
    "train_cm = confusion_matrix(y_train, y_train_pred)\n",
    "ConfusionMatrixDisplay(train_cm, display_labels=['No Fraud', 'Fraud']).plot()\n",
    "plt.show()"
   ]
  },
  {
   "cell_type": "markdown",
   "id": "0159c85a",
   "metadata": {},
   "source": [
    "#### Evaluate on test data"
   ]
  },
  {
   "cell_type": "code",
   "execution_count": 45,
   "id": "b6e3077d",
   "metadata": {},
   "outputs": [],
   "source": [
    "# predictions on test data\n",
    "y_pred = pipeline.predict(X_test)"
   ]
  },
  {
   "cell_type": "code",
   "execution_count": 46,
   "id": "1243c0f1",
   "metadata": {},
   "outputs": [
    {
     "name": "stdout",
     "output_type": "stream",
     "text": [
      "classification report for test data:\n",
      "               precision    recall  f1-score   support\n",
      "\n",
      "           0       1.00      0.81      0.90   1906362\n",
      "           1       0.01      0.90      0.01      2424\n",
      "\n",
      "    accuracy                           0.81   1908786\n",
      "   macro avg       0.50      0.86      0.45   1908786\n",
      "weighted avg       1.00      0.81      0.89   1908786\n",
      "\n",
      "AUC:    \t 0.94\n"
     ]
    }
   ],
   "source": [
    "# classification report on test data predictions\n",
    "print(\"classification report for test data:\\n\",classification_report(y_test, y_pred))\n",
    "\n",
    "# check area under curve\n",
    "y_pred_prob = pipeline.predict_proba(X_test)[:, 1]\n",
    "print(\"AUC:    \\t\", round(roc_auc_score(y_test, y_pred_prob),2))"
   ]
  },
  {
   "cell_type": "code",
   "execution_count": 47,
   "id": "2b47c8be",
   "metadata": {},
   "outputs": [
    {
     "name": "stdout",
     "output_type": "stream",
     "text": [
      "Confusion Matrix for test data:\n",
      "\n"
     ]
    },
    {
     "data": {
      "image/png": "[encoded data removed]",
      "text/plain": [
       "<Figure size 640x480 with 2 Axes>"
      ]
     },
     "metadata": {},
     "output_type": "display_data"
    }
   ],
   "source": [
    "# create confusion matrix\n",
    "test_cm = confusion_matrix(y_test, y_pred)\n",
    "print(\"Confusion Matrix for test data:\\n\")\n",
    "ConfusionMatrixDisplay(test_cm, display_labels=['No Fraud', 'Fraud']).plot()\n",
    "plt.show()"
   ]
  },
  {
   "cell_type": "markdown",
   "id": "88ac2508",
   "metadata": {},
   "source": [
    "### Hyperparameter tuning - PCA and Logistic Regression"
   ]
  },
  {
   "cell_type": "code",
   "execution_count": 48,
   "id": "3f9c5a6d",
   "metadata": {},
   "outputs": [
    {
     "data": {
      "text/plain": [
       "0    0.9987\n",
       "1    0.0013\n",
       "Name: isFraud, dtype: float64"
      ]
     },
     "execution_count": 48,
     "metadata": {},
     "output_type": "execute_result"
    }
   ],
   "source": [
    "# class imbalance\n",
    "y_train.value_counts(normalize=True)"
   ]
  },
  {
   "cell_type": "code",
   "execution_count": 49,
   "id": "6809f988",
   "metadata": {},
   "outputs": [],
   "source": [
    "# PCA\n",
    "pca = PCA()\n",
    "\n",
    "# logistic regression - the class weight is used to handle class imbalance - it adjusts the cost function\n",
    "logistic = LogisticRegression(class_weight={0:0.1, 1: 0.9})\n",
    "\n",
    "# create pipeline\n",
    "steps = [(\"scaler\", MinMaxScaler()), \n",
    "         (\"pca\", pca),\n",
    "         (\"logistic\", logistic)\n",
    "        ]\n",
    "\n",
    "# compile pipeline\n",
    "pca_logistic = Pipeline(steps)\n",
    "\n",
    "# hyperparameter space\n",
    "params = {'pca__n_components': [6, 8], 'logistic__C': [0.01, 0.1, 1 , 10, 100, 1000, 10000], 'logistic__penalty': ['l1', 'l2']}\n",
    "\n",
    "# create 5 folds\n",
    "folds = StratifiedKFold(n_splits = 5, shuffle = True, random_state = 2000)\n",
    "\n",
    "# create gridsearch object\n",
    "model = GridSearchCV(estimator=pca_logistic, cv=folds, param_grid=params, scoring='roc_auc', n_jobs=-1, verbose=1)"
   ]
  },
  {
   "cell_type": "code",
   "execution_count": 50,
   "id": "efe8178f",
   "metadata": {},
   "outputs": [
    {
     "name": "stdout",
     "output_type": "stream",
     "text": [
      "Fitting 5 folds for each of 28 candidates, totalling 140 fits\n"
     ]
    },
    {
     "data": {
      "text/html": [
       "<style>#sk-container-id-1 {color: black;}#sk-container-id-1 pre{padding: 0;}#sk-container-id-1 div.sk-toggleable {background-color: white;}#sk-container-id-1 label.sk-toggleable__label {cursor: pointer;display: block;width: 100%;margin-bottom: 0;padding: 0.3em;box-sizing: border-box;text-align: center;}#sk-container-id-1 label.sk-toggleable__label-arrow:before {content: \"▸\";float: left;margin-right: 0.25em;color: #696969;}#sk-container-id-1 label.sk-toggleable__label-arrow:hover:before {color: black;}#sk-container-id-1 div.sk-estimator:hover label.sk-toggleable__label-arrow:before {color: black;}#sk-container-id-1 div.sk-toggleable__content {max-height: 0;max-width: 0;overflow: hidden;text-align: left;background-color: #f0f8ff;}#sk-container-id-1 div.sk-toggleable__content pre {margin: 0.2em;color: black;border-radius: 0.25em;background-color: #f0f8ff;}#sk-container-id-1 input.sk-toggleable__control:checked~div.sk-toggleable__content {max-height: 200px;max-width: 100%;overflow: auto;}#sk-container-id-1 input.sk-toggleable__control:checked~label.sk-toggleable__label-arrow:before {content: \"▾\";}#sk-container-id-1 div.sk-estimator input.sk-toggleable__control:checked~label.sk-toggleable__label {background-color: #d4ebff;}#sk-container-id-1 div.sk-label input.sk-toggleable__control:checked~label.sk-toggleable__label {background-color: #d4ebff;}#sk-container-id-1 input.sk-hidden--visually {border: 0;clip: rect(1px 1px 1px 1px);clip: rect(1px, 1px, 1px, 1px);height: 1px;margin: -1px;overflow: hidden;padding: 0;position: absolute;width: 1px;}#sk-container-id-1 div.sk-estimator {font-family: monospace;background-color: #f0f8ff;border: 1px dotted black;border-radius: 0.25em;box-sizing: border-box;margin-bottom: 0.5em;}#sk-container-id-1 div.sk-estimator:hover {background-color: #d4ebff;}#sk-container-id-1 div.sk-parallel-item::after {content: \"\";width: 100%;border-bottom: 1px solid gray;flex-grow: 1;}#sk-container-id-1 div.sk-label:hover label.sk-toggleable__label {background-color: #d4ebff;}#sk-container-id-1 div.sk-serial::before {content: \"\";position: absolute;border-left: 1px solid gray;box-sizing: border-box;top: 0;bottom: 0;left: 50%;z-index: 0;}#sk-container-id-1 div.sk-serial {display: flex;flex-direction: column;align-items: center;background-color: white;padding-right: 0.2em;padding-left: 0.2em;position: relative;}#sk-container-id-1 div.sk-item {position: relative;z-index: 1;}#sk-container-id-1 div.sk-parallel {display: flex;align-items: stretch;justify-content: center;background-color: white;position: relative;}#sk-container-id-1 div.sk-item::before, #sk-container-id-1 div.sk-parallel-item::before {content: \"\";position: absolute;border-left: 1px solid gray;box-sizing: border-box;top: 0;bottom: 0;left: 50%;z-index: -1;}#sk-container-id-1 div.sk-parallel-item {display: flex;flex-direction: column;z-index: 1;position: relative;background-color: white;}#sk-container-id-1 div.sk-parallel-item:first-child::after {align-self: flex-end;width: 50%;}#sk-container-id-1 div.sk-parallel-item:last-child::after {align-self: flex-start;width: 50%;}#sk-container-id-1 div.sk-parallel-item:only-child::after {width: 0;}#sk-container-id-1 div.sk-dashed-wrapped {border: 1px dashed gray;margin: 0 0.4em 0.5em 0.4em;box-sizing: border-box;padding-bottom: 0.4em;background-color: white;}#sk-container-id-1 div.sk-label label {font-family: monospace;font-weight: bold;display: inline-block;line-height: 1.2em;}#sk-container-id-1 div.sk-label-container {text-align: center;}#sk-container-id-1 div.sk-container {/* jupyter's `normalize.less` sets `[hidden] { display: none; }` but bootstrap.min.css set `[hidden] { display: none !important; }` so we also need the `!important` here to be able to override the default hidden behavior on the sphinx rendered scikit-learn.org. See: https://github.com/scikit-learn/scikit-learn/issues/21755 */display: inline-block !important;position: relative;}#sk-container-id-1 div.sk-text-repr-fallback {display: none;}</style><div id=\"sk-container-id-1\" class=\"sk-top-container\"><div class=\"sk-text-repr-fallback\"><pre>GridSearchCV(cv=StratifiedKFold(n_splits=5, random_state=2000, shuffle=True),\n",
       "             estimator=Pipeline(steps=[(&#x27;scaler&#x27;, MinMaxScaler()),\n",
       "                                       (&#x27;pca&#x27;, PCA()),\n",
       "                                       (&#x27;logistic&#x27;,\n",
       "                                        LogisticRegression(class_weight={0: 0.1,\n",
       "                                                                         1: 0.9}))]),\n",
       "             n_jobs=-1,\n",
       "             param_grid={&#x27;logistic__C&#x27;: [0.01, 0.1, 1, 10, 100, 1000, 10000],\n",
       "                         &#x27;logistic__penalty&#x27;: [&#x27;l1&#x27;, &#x27;l2&#x27;],\n",
       "                         &#x27;pca__n_components&#x27;: [6, 8]},\n",
       "             scoring=&#x27;roc_auc&#x27;, verbose=1)</pre><b>In a Jupyter environment, please rerun this cell to show the HTML representation or trust the notebook. <br />On GitHub, the HTML representation is unable to render, please try loading this page with nbviewer.org.</b></div><div class=\"sk-container\" hidden><div class=\"sk-item sk-dashed-wrapped\"><div class=\"sk-label-container\"><div class=\"sk-label sk-toggleable\"><input class=\"sk-toggleable__control sk-hidden--visually\" id=\"sk-estimator-id-1\" type=\"checkbox\" ><label for=\"sk-estimator-id-1\" class=\"sk-toggleable__label sk-toggleable__label-arrow\">GridSearchCV</label><div class=\"sk-toggleable__content\"><pre>GridSearchCV(cv=StratifiedKFold(n_splits=5, random_state=2000, shuffle=True),\n",
       "             estimator=Pipeline(steps=[(&#x27;scaler&#x27;, MinMaxScaler()),\n",
       "                                       (&#x27;pca&#x27;, PCA()),\n",
       "                                       (&#x27;logistic&#x27;,\n",
       "                                        LogisticRegression(class_weight={0: 0.1,\n",
       "                                                                         1: 0.9}))]),\n",
       "             n_jobs=-1,\n",
       "             param_grid={&#x27;logistic__C&#x27;: [0.01, 0.1, 1, 10, 100, 1000, 10000],\n",
       "                         &#x27;logistic__penalty&#x27;: [&#x27;l1&#x27;, &#x27;l2&#x27;],\n",
       "                         &#x27;pca__n_components&#x27;: [6, 8]},\n",
       "             scoring=&#x27;roc_auc&#x27;, verbose=1)</pre></div></div></div><div class=\"sk-parallel\"><div class=\"sk-parallel-item\"><div class=\"sk-item\"><div class=\"sk-label-container\"><div class=\"sk-label sk-toggleable\"><input class=\"sk-toggleable__control sk-hidden--visually\" id=\"sk-estimator-id-2\" type=\"checkbox\" ><label for=\"sk-estimator-id-2\" class=\"sk-toggleable__label sk-toggleable__label-arrow\">estimator: Pipeline</label><div class=\"sk-toggleable__content\"><pre>Pipeline(steps=[(&#x27;scaler&#x27;, MinMaxScaler()), (&#x27;pca&#x27;, PCA()),\n",
       "                (&#x27;logistic&#x27;,\n",
       "                 LogisticRegression(class_weight={0: 0.1, 1: 0.9}))])</pre></div></div></div><div class=\"sk-serial\"><div class=\"sk-item\"><div class=\"sk-serial\"><div class=\"sk-item\"><div class=\"sk-estimator sk-toggleable\"><input class=\"sk-toggleable__control sk-hidden--visually\" id=\"sk-estimator-id-3\" type=\"checkbox\" ><label for=\"sk-estimator-id-3\" class=\"sk-toggleable__label sk-toggleable__label-arrow\">MinMaxScaler</label><div class=\"sk-toggleable__content\"><pre>MinMaxScaler()</pre></div></div></div><div class=\"sk-item\"><div class=\"sk-estimator sk-toggleable\"><input class=\"sk-toggleable__control sk-hidden--visually\" id=\"sk-estimator-id-4\" type=\"checkbox\" ><label for=\"sk-estimator-id-4\" class=\"sk-toggleable__label sk-toggleable__label-arrow\">PCA</label><div class=\"sk-toggleable__content\"><pre>PCA()</pre></div></div></div><div class=\"sk-item\"><div class=\"sk-estimator sk-toggleable\"><input class=\"sk-toggleable__control sk-hidden--visually\" id=\"sk-estimator-id-5\" type=\"checkbox\" ><label for=\"sk-estimator-id-5\" class=\"sk-toggleable__label sk-toggleable__label-arrow\">LogisticRegression</label><div class=\"sk-toggleable__content\"><pre>LogisticRegression(class_weight={0: 0.1, 1: 0.9})</pre></div></div></div></div></div></div></div></div></div></div></div></div>"
      ],
      "text/plain": [
       "GridSearchCV(cv=StratifiedKFold(n_splits=5, random_state=2000, shuffle=True),\n",
       "             estimator=Pipeline(steps=[('scaler', MinMaxScaler()),\n",
       "                                       ('pca', PCA()),\n",
       "                                       ('logistic',\n",
       "                                        LogisticRegression(class_weight={0: 0.1,\n",
       "                                                                         1: 0.9}))]),\n",
       "             n_jobs=-1,\n",
       "             param_grid={'logistic__C': [0.01, 0.1, 1, 10, 100, 1000, 10000],\n",
       "                         'logistic__penalty': ['l1', 'l2'],\n",
       "                         'pca__n_components': [6, 8]},\n",
       "             scoring='roc_auc', verbose=1)"
      ]
     },
     "execution_count": 50,
     "metadata": {},
     "output_type": "execute_result"
    }
   ],
   "source": [
    "# fit model\n",
    "model.fit(X_train, y_train)"
   ]
  },
  {
   "cell_type": "code",
   "execution_count": 51,
   "id": "f80ac39c",
   "metadata": {},
   "outputs": [
    {
     "data": {
      "text/html": [
       "<div>\n",
       "<style scoped>\n",
       "    .dataframe tbody tr th:only-of-type {\n",
       "        vertical-align: middle;\n",
       "    }\n",
       "\n",
       "    .dataframe tbody tr th {\n",
       "        vertical-align: top;\n",
       "    }\n",
       "\n",
       "    .dataframe thead th {\n",
       "        text-align: right;\n",
       "    }\n",
       "</style>\n",
       "<table border=\"1\" class=\"dataframe\">\n",
       "  <thead>\n",
       "    <tr style=\"text-align: right;\">\n",
       "      <th></th>\n",
       "      <th>mean_fit_time</th>\n",
       "      <th>std_fit_time</th>\n",
       "      <th>mean_score_time</th>\n",
       "      <th>std_score_time</th>\n",
       "      <th>param_logistic__C</th>\n",
       "      <th>param_logistic__penalty</th>\n",
       "      <th>param_pca__n_components</th>\n",
       "      <th>params</th>\n",
       "      <th>split0_test_score</th>\n",
       "      <th>split1_test_score</th>\n",
       "      <th>split2_test_score</th>\n",
       "      <th>split3_test_score</th>\n",
       "      <th>split4_test_score</th>\n",
       "      <th>mean_test_score</th>\n",
       "      <th>std_test_score</th>\n",
       "      <th>rank_test_score</th>\n",
       "    </tr>\n",
       "  </thead>\n",
       "  <tbody>\n",
       "    <tr>\n",
       "      <th>0</th>\n",
       "      <td>52.904272</td>\n",
       "      <td>2.553976</td>\n",
       "      <td>0.000000</td>\n",
       "      <td>0.000000</td>\n",
       "      <td>0.01</td>\n",
       "      <td>l1</td>\n",
       "      <td>6</td>\n",
       "      <td>{'logistic__C': 0.01, 'logistic__penalty': 'l1...</td>\n",
       "      <td>NaN</td>\n",
       "      <td>NaN</td>\n",
       "      <td>NaN</td>\n",
       "      <td>NaN</td>\n",
       "      <td>NaN</td>\n",
       "      <td>NaN</td>\n",
       "      <td>NaN</td>\n",
       "      <td>15</td>\n",
       "    </tr>\n",
       "    <tr>\n",
       "      <th>1</th>\n",
       "      <td>50.221709</td>\n",
       "      <td>2.003244</td>\n",
       "      <td>0.000000</td>\n",
       "      <td>0.000000</td>\n",
       "      <td>0.01</td>\n",
       "      <td>l1</td>\n",
       "      <td>8</td>\n",
       "      <td>{'logistic__C': 0.01, 'logistic__penalty': 'l1...</td>\n",
       "      <td>NaN</td>\n",
       "      <td>NaN</td>\n",
       "      <td>NaN</td>\n",
       "      <td>NaN</td>\n",
       "      <td>NaN</td>\n",
       "      <td>NaN</td>\n",
       "      <td>NaN</td>\n",
       "      <td>15</td>\n",
       "    </tr>\n",
       "    <tr>\n",
       "      <th>2</th>\n",
       "      <td>58.600862</td>\n",
       "      <td>6.655752</td>\n",
       "      <td>3.436931</td>\n",
       "      <td>1.838278</td>\n",
       "      <td>0.01</td>\n",
       "      <td>l2</td>\n",
       "      <td>6</td>\n",
       "      <td>{'logistic__C': 0.01, 'logistic__penalty': 'l2...</td>\n",
       "      <td>0.911018</td>\n",
       "      <td>0.910724</td>\n",
       "      <td>0.910559</td>\n",
       "      <td>0.914219</td>\n",
       "      <td>0.904439</td>\n",
       "      <td>0.910192</td>\n",
       "      <td>0.003175</td>\n",
       "      <td>14</td>\n",
       "    </tr>\n",
       "    <tr>\n",
       "      <th>3</th>\n",
       "      <td>53.098085</td>\n",
       "      <td>3.246202</td>\n",
       "      <td>2.395760</td>\n",
       "      <td>0.078289</td>\n",
       "      <td>0.01</td>\n",
       "      <td>l2</td>\n",
       "      <td>8</td>\n",
       "      <td>{'logistic__C': 0.01, 'logistic__penalty': 'l2...</td>\n",
       "      <td>0.916676</td>\n",
       "      <td>0.916899</td>\n",
       "      <td>0.916666</td>\n",
       "      <td>0.919727</td>\n",
       "      <td>0.910744</td>\n",
       "      <td>0.916142</td>\n",
       "      <td>0.002937</td>\n",
       "      <td>13</td>\n",
       "    </tr>\n",
       "    <tr>\n",
       "      <th>4</th>\n",
       "      <td>62.202274</td>\n",
       "      <td>34.678748</td>\n",
       "      <td>0.000000</td>\n",
       "      <td>0.000000</td>\n",
       "      <td>0.1</td>\n",
       "      <td>l1</td>\n",
       "      <td>6</td>\n",
       "      <td>{'logistic__C': 0.1, 'logistic__penalty': 'l1'...</td>\n",
       "      <td>NaN</td>\n",
       "      <td>NaN</td>\n",
       "      <td>NaN</td>\n",
       "      <td>NaN</td>\n",
       "      <td>NaN</td>\n",
       "      <td>NaN</td>\n",
       "      <td>NaN</td>\n",
       "      <td>15</td>\n",
       "    </tr>\n",
       "    <tr>\n",
       "      <th>5</th>\n",
       "      <td>85.191098</td>\n",
       "      <td>37.570048</td>\n",
       "      <td>0.000000</td>\n",
       "      <td>0.000000</td>\n",
       "      <td>0.1</td>\n",
       "      <td>l1</td>\n",
       "      <td>8</td>\n",
       "      <td>{'logistic__C': 0.1, 'logistic__penalty': 'l1'...</td>\n",
       "      <td>NaN</td>\n",
       "      <td>NaN</td>\n",
       "      <td>NaN</td>\n",
       "      <td>NaN</td>\n",
       "      <td>NaN</td>\n",
       "      <td>NaN</td>\n",
       "      <td>NaN</td>\n",
       "      <td>15</td>\n",
       "    </tr>\n",
       "    <tr>\n",
       "      <th>6</th>\n",
       "      <td>47.017018</td>\n",
       "      <td>3.913280</td>\n",
       "      <td>2.438743</td>\n",
       "      <td>1.069164</td>\n",
       "      <td>0.1</td>\n",
       "      <td>l2</td>\n",
       "      <td>6</td>\n",
       "      <td>{'logistic__C': 0.1, 'logistic__penalty': 'l2'...</td>\n",
       "      <td>0.919103</td>\n",
       "      <td>0.919327</td>\n",
       "      <td>0.918501</td>\n",
       "      <td>0.921595</td>\n",
       "      <td>0.913677</td>\n",
       "      <td>0.918441</td>\n",
       "      <td>0.002603</td>\n",
       "      <td>12</td>\n",
       "    </tr>\n",
       "    <tr>\n",
       "      <th>7</th>\n",
       "      <td>54.241106</td>\n",
       "      <td>3.200337</td>\n",
       "      <td>3.876525</td>\n",
       "      <td>1.519713</td>\n",
       "      <td>0.1</td>\n",
       "      <td>l2</td>\n",
       "      <td>8</td>\n",
       "      <td>{'logistic__C': 0.1, 'logistic__penalty': 'l2'...</td>\n",
       "      <td>0.924844</td>\n",
       "      <td>0.925954</td>\n",
       "      <td>0.924580</td>\n",
       "      <td>0.927578</td>\n",
       "      <td>0.919830</td>\n",
       "      <td>0.924557</td>\n",
       "      <td>0.002589</td>\n",
       "      <td>11</td>\n",
       "    </tr>\n",
       "    <tr>\n",
       "      <th>8</th>\n",
       "      <td>26.620033</td>\n",
       "      <td>5.140009</td>\n",
       "      <td>0.000000</td>\n",
       "      <td>0.000000</td>\n",
       "      <td>1</td>\n",
       "      <td>l1</td>\n",
       "      <td>6</td>\n",
       "      <td>{'logistic__C': 1, 'logistic__penalty': 'l1', ...</td>\n",
       "      <td>NaN</td>\n",
       "      <td>NaN</td>\n",
       "      <td>NaN</td>\n",
       "      <td>NaN</td>\n",
       "      <td>NaN</td>\n",
       "      <td>NaN</td>\n",
       "      <td>NaN</td>\n",
       "      <td>15</td>\n",
       "    </tr>\n",
       "    <tr>\n",
       "      <th>9</th>\n",
       "      <td>33.566522</td>\n",
       "      <td>5.832872</td>\n",
       "      <td>0.000000</td>\n",
       "      <td>0.000000</td>\n",
       "      <td>1</td>\n",
       "      <td>l1</td>\n",
       "      <td>8</td>\n",
       "      <td>{'logistic__C': 1, 'logistic__penalty': 'l1', ...</td>\n",
       "      <td>NaN</td>\n",
       "      <td>NaN</td>\n",
       "      <td>NaN</td>\n",
       "      <td>NaN</td>\n",
       "      <td>NaN</td>\n",
       "      <td>NaN</td>\n",
       "      <td>NaN</td>\n",
       "      <td>15</td>\n",
       "    </tr>\n",
       "    <tr>\n",
       "      <th>10</th>\n",
       "      <td>39.416836</td>\n",
       "      <td>2.392803</td>\n",
       "      <td>1.589428</td>\n",
       "      <td>0.327425</td>\n",
       "      <td>1</td>\n",
       "      <td>l2</td>\n",
       "      <td>6</td>\n",
       "      <td>{'logistic__C': 1, 'logistic__penalty': 'l2', ...</td>\n",
       "      <td>0.926240</td>\n",
       "      <td>0.926582</td>\n",
       "      <td>0.925904</td>\n",
       "      <td>0.928415</td>\n",
       "      <td>0.921883</td>\n",
       "      <td>0.925805</td>\n",
       "      <td>0.002145</td>\n",
       "      <td>10</td>\n",
       "    </tr>\n",
       "    <tr>\n",
       "      <th>11</th>\n",
       "      <td>47.002950</td>\n",
       "      <td>3.905651</td>\n",
       "      <td>2.281339</td>\n",
       "      <td>0.943291</td>\n",
       "      <td>1</td>\n",
       "      <td>l2</td>\n",
       "      <td>8</td>\n",
       "      <td>{'logistic__C': 1, 'logistic__penalty': 'l2', ...</td>\n",
       "      <td>0.929826</td>\n",
       "      <td>0.931389</td>\n",
       "      <td>0.929634</td>\n",
       "      <td>0.932390</td>\n",
       "      <td>0.925803</td>\n",
       "      <td>0.929808</td>\n",
       "      <td>0.002246</td>\n",
       "      <td>9</td>\n",
       "    </tr>\n",
       "    <tr>\n",
       "      <th>12</th>\n",
       "      <td>18.662391</td>\n",
       "      <td>1.633198</td>\n",
       "      <td>0.000000</td>\n",
       "      <td>0.000000</td>\n",
       "      <td>10</td>\n",
       "      <td>l1</td>\n",
       "      <td>6</td>\n",
       "      <td>{'logistic__C': 10, 'logistic__penalty': 'l1',...</td>\n",
       "      <td>NaN</td>\n",
       "      <td>NaN</td>\n",
       "      <td>NaN</td>\n",
       "      <td>NaN</td>\n",
       "      <td>NaN</td>\n",
       "      <td>NaN</td>\n",
       "      <td>NaN</td>\n",
       "      <td>15</td>\n",
       "    </tr>\n",
       "    <tr>\n",
       "      <th>13</th>\n",
       "      <td>25.261533</td>\n",
       "      <td>3.015157</td>\n",
       "      <td>0.000000</td>\n",
       "      <td>0.000000</td>\n",
       "      <td>10</td>\n",
       "      <td>l1</td>\n",
       "      <td>8</td>\n",
       "      <td>{'logistic__C': 10, 'logistic__penalty': 'l1',...</td>\n",
       "      <td>NaN</td>\n",
       "      <td>NaN</td>\n",
       "      <td>NaN</td>\n",
       "      <td>NaN</td>\n",
       "      <td>NaN</td>\n",
       "      <td>NaN</td>\n",
       "      <td>NaN</td>\n",
       "      <td>15</td>\n",
       "    </tr>\n",
       "    <tr>\n",
       "      <th>14</th>\n",
       "      <td>35.177136</td>\n",
       "      <td>1.370164</td>\n",
       "      <td>1.544251</td>\n",
       "      <td>0.149970</td>\n",
       "      <td>10</td>\n",
       "      <td>l2</td>\n",
       "      <td>6</td>\n",
       "      <td>{'logistic__C': 10, 'logistic__penalty': 'l2',...</td>\n",
       "      <td>0.931833</td>\n",
       "      <td>0.932196</td>\n",
       "      <td>0.932259</td>\n",
       "      <td>0.933823</td>\n",
       "      <td>0.927954</td>\n",
       "      <td>0.931613</td>\n",
       "      <td>0.001954</td>\n",
       "      <td>8</td>\n",
       "    </tr>\n",
       "    <tr>\n",
       "      <th>15</th>\n",
       "      <td>49.559374</td>\n",
       "      <td>6.352781</td>\n",
       "      <td>1.567074</td>\n",
       "      <td>0.191769</td>\n",
       "      <td>10</td>\n",
       "      <td>l2</td>\n",
       "      <td>8</td>\n",
       "      <td>{'logistic__C': 10, 'logistic__penalty': 'l2',...</td>\n",
       "      <td>0.931609</td>\n",
       "      <td>0.933400</td>\n",
       "      <td>0.931553</td>\n",
       "      <td>0.934151</td>\n",
       "      <td>0.927687</td>\n",
       "      <td>0.931680</td>\n",
       "      <td>0.002237</td>\n",
       "      <td>7</td>\n",
       "    </tr>\n",
       "    <tr>\n",
       "      <th>16</th>\n",
       "      <td>25.676217</td>\n",
       "      <td>3.724146</td>\n",
       "      <td>0.000000</td>\n",
       "      <td>0.000000</td>\n",
       "      <td>100</td>\n",
       "      <td>l1</td>\n",
       "      <td>6</td>\n",
       "      <td>{'logistic__C': 100, 'logistic__penalty': 'l1'...</td>\n",
       "      <td>NaN</td>\n",
       "      <td>NaN</td>\n",
       "      <td>NaN</td>\n",
       "      <td>NaN</td>\n",
       "      <td>NaN</td>\n",
       "      <td>NaN</td>\n",
       "      <td>NaN</td>\n",
       "      <td>15</td>\n",
       "    </tr>\n",
       "    <tr>\n",
       "      <th>17</th>\n",
       "      <td>27.126711</td>\n",
       "      <td>3.296402</td>\n",
       "      <td>0.000000</td>\n",
       "      <td>0.000000</td>\n",
       "      <td>100</td>\n",
       "      <td>l1</td>\n",
       "      <td>8</td>\n",
       "      <td>{'logistic__C': 100, 'logistic__penalty': 'l1'...</td>\n",
       "      <td>NaN</td>\n",
       "      <td>NaN</td>\n",
       "      <td>NaN</td>\n",
       "      <td>NaN</td>\n",
       "      <td>NaN</td>\n",
       "      <td>NaN</td>\n",
       "      <td>NaN</td>\n",
       "      <td>15</td>\n",
       "    </tr>\n",
       "    <tr>\n",
       "      <th>18</th>\n",
       "      <td>41.407185</td>\n",
       "      <td>6.770827</td>\n",
       "      <td>1.916649</td>\n",
       "      <td>0.907018</td>\n",
       "      <td>100</td>\n",
       "      <td>l2</td>\n",
       "      <td>6</td>\n",
       "      <td>{'logistic__C': 100, 'logistic__penalty': 'l2'...</td>\n",
       "      <td>0.933025</td>\n",
       "      <td>0.933333</td>\n",
       "      <td>0.933623</td>\n",
       "      <td>0.934939</td>\n",
       "      <td>0.929245</td>\n",
       "      <td>0.932833</td>\n",
       "      <td>0.001909</td>\n",
       "      <td>3</td>\n",
       "    </tr>\n",
       "    <tr>\n",
       "      <th>19</th>\n",
       "      <td>50.076664</td>\n",
       "      <td>6.419547</td>\n",
       "      <td>1.698292</td>\n",
       "      <td>0.286265</td>\n",
       "      <td>100</td>\n",
       "      <td>l2</td>\n",
       "      <td>8</td>\n",
       "      <td>{'logistic__C': 100, 'logistic__penalty': 'l2'...</td>\n",
       "      <td>0.932010</td>\n",
       "      <td>0.933911</td>\n",
       "      <td>0.932026</td>\n",
       "      <td>0.934561</td>\n",
       "      <td>0.928120</td>\n",
       "      <td>0.932126</td>\n",
       "      <td>0.002244</td>\n",
       "      <td>6</td>\n",
       "    </tr>\n",
       "    <tr>\n",
       "      <th>20</th>\n",
       "      <td>21.261205</td>\n",
       "      <td>1.219974</td>\n",
       "      <td>0.000000</td>\n",
       "      <td>0.000000</td>\n",
       "      <td>1000</td>\n",
       "      <td>l1</td>\n",
       "      <td>6</td>\n",
       "      <td>{'logistic__C': 1000, 'logistic__penalty': 'l1...</td>\n",
       "      <td>NaN</td>\n",
       "      <td>NaN</td>\n",
       "      <td>NaN</td>\n",
       "      <td>NaN</td>\n",
       "      <td>NaN</td>\n",
       "      <td>NaN</td>\n",
       "      <td>NaN</td>\n",
       "      <td>15</td>\n",
       "    </tr>\n",
       "    <tr>\n",
       "      <th>21</th>\n",
       "      <td>25.272956</td>\n",
       "      <td>3.077830</td>\n",
       "      <td>0.000000</td>\n",
       "      <td>0.000000</td>\n",
       "      <td>1000</td>\n",
       "      <td>l1</td>\n",
       "      <td>8</td>\n",
       "      <td>{'logistic__C': 1000, 'logistic__penalty': 'l1...</td>\n",
       "      <td>NaN</td>\n",
       "      <td>NaN</td>\n",
       "      <td>NaN</td>\n",
       "      <td>NaN</td>\n",
       "      <td>NaN</td>\n",
       "      <td>NaN</td>\n",
       "      <td>NaN</td>\n",
       "      <td>15</td>\n",
       "    </tr>\n",
       "    <tr>\n",
       "      <th>22</th>\n",
       "      <td>39.935706</td>\n",
       "      <td>4.547335</td>\n",
       "      <td>1.540523</td>\n",
       "      <td>0.275735</td>\n",
       "      <td>1000</td>\n",
       "      <td>l2</td>\n",
       "      <td>6</td>\n",
       "      <td>{'logistic__C': 1000, 'logistic__penalty': 'l2...</td>\n",
       "      <td>0.933159</td>\n",
       "      <td>0.933464</td>\n",
       "      <td>0.933778</td>\n",
       "      <td>0.935066</td>\n",
       "      <td>0.929391</td>\n",
       "      <td>0.932972</td>\n",
       "      <td>0.001904</td>\n",
       "      <td>2</td>\n",
       "    </tr>\n",
       "    <tr>\n",
       "      <th>23</th>\n",
       "      <td>42.255876</td>\n",
       "      <td>2.374120</td>\n",
       "      <td>2.226885</td>\n",
       "      <td>0.686022</td>\n",
       "      <td>1000</td>\n",
       "      <td>l2</td>\n",
       "      <td>8</td>\n",
       "      <td>{'logistic__C': 1000, 'logistic__penalty': 'l2...</td>\n",
       "      <td>0.932068</td>\n",
       "      <td>0.933980</td>\n",
       "      <td>0.932099</td>\n",
       "      <td>0.934618</td>\n",
       "      <td>0.928179</td>\n",
       "      <td>0.932189</td>\n",
       "      <td>0.002246</td>\n",
       "      <td>5</td>\n",
       "    </tr>\n",
       "    <tr>\n",
       "      <th>24</th>\n",
       "      <td>19.007862</td>\n",
       "      <td>0.868826</td>\n",
       "      <td>0.000000</td>\n",
       "      <td>0.000000</td>\n",
       "      <td>10000</td>\n",
       "      <td>l1</td>\n",
       "      <td>6</td>\n",
       "      <td>{'logistic__C': 10000, 'logistic__penalty': 'l...</td>\n",
       "      <td>NaN</td>\n",
       "      <td>NaN</td>\n",
       "      <td>NaN</td>\n",
       "      <td>NaN</td>\n",
       "      <td>NaN</td>\n",
       "      <td>NaN</td>\n",
       "      <td>NaN</td>\n",
       "      <td>15</td>\n",
       "    </tr>\n",
       "    <tr>\n",
       "      <th>25</th>\n",
       "      <td>24.355231</td>\n",
       "      <td>0.983594</td>\n",
       "      <td>0.000000</td>\n",
       "      <td>0.000000</td>\n",
       "      <td>10000</td>\n",
       "      <td>l1</td>\n",
       "      <td>8</td>\n",
       "      <td>{'logistic__C': 10000, 'logistic__penalty': 'l...</td>\n",
       "      <td>NaN</td>\n",
       "      <td>NaN</td>\n",
       "      <td>NaN</td>\n",
       "      <td>NaN</td>\n",
       "      <td>NaN</td>\n",
       "      <td>NaN</td>\n",
       "      <td>NaN</td>\n",
       "      <td>15</td>\n",
       "    </tr>\n",
       "    <tr>\n",
       "      <th>26</th>\n",
       "      <td>37.853194</td>\n",
       "      <td>3.383559</td>\n",
       "      <td>1.649266</td>\n",
       "      <td>0.440304</td>\n",
       "      <td>10000</td>\n",
       "      <td>l2</td>\n",
       "      <td>6</td>\n",
       "      <td>{'logistic__C': 10000, 'logistic__penalty': 'l...</td>\n",
       "      <td>0.933173</td>\n",
       "      <td>0.933476</td>\n",
       "      <td>0.933793</td>\n",
       "      <td>0.935078</td>\n",
       "      <td>0.929408</td>\n",
       "      <td>0.932986</td>\n",
       "      <td>0.001903</td>\n",
       "      <td>1</td>\n",
       "    </tr>\n",
       "    <tr>\n",
       "      <th>27</th>\n",
       "      <td>38.379892</td>\n",
       "      <td>6.503042</td>\n",
       "      <td>1.153970</td>\n",
       "      <td>0.358198</td>\n",
       "      <td>10000</td>\n",
       "      <td>l2</td>\n",
       "      <td>8</td>\n",
       "      <td>{'logistic__C': 10000, 'logistic__penalty': 'l...</td>\n",
       "      <td>0.932073</td>\n",
       "      <td>0.933987</td>\n",
       "      <td>0.932106</td>\n",
       "      <td>0.934624</td>\n",
       "      <td>0.928185</td>\n",
       "      <td>0.932195</td>\n",
       "      <td>0.002245</td>\n",
       "      <td>4</td>\n",
       "    </tr>\n",
       "  </tbody>\n",
       "</table>\n",
       "</div>"
      ],
      "text/plain": [
       "    mean_fit_time  std_fit_time  mean_score_time  std_score_time  \\\n",
       "0       52.904272      2.553976         0.000000        0.000000   \n",
       "1       50.221709      2.003244         0.000000        0.000000   \n",
       "2       58.600862      6.655752         3.436931        1.838278   \n",
       "3       53.098085      3.246202         2.395760        0.078289   \n",
       "4       62.202274     34.678748         0.000000        0.000000   \n",
       "5       85.191098     37.570048         0.000000        0.000000   \n",
       "6       47.017018      3.913280         2.438743        1.069164   \n",
       "7       54.241106      3.200337         3.876525        1.519713   \n",
       "8       26.620033      5.140009         0.000000        0.000000   \n",
       "9       33.566522      5.832872         0.000000        0.000000   \n",
       "10      39.416836      2.392803         1.589428        0.327425   \n",
       "11      47.002950      3.905651         2.281339        0.943291   \n",
       "12      18.662391      1.633198         0.000000        0.000000   \n",
       "13      25.261533      3.015157         0.000000        0.000000   \n",
       "14      35.177136      1.370164         1.544251        0.149970   \n",
       "15      49.559374      6.352781         1.567074        0.191769   \n",
       "16      25.676217      3.724146         0.000000        0.000000   \n",
       "17      27.126711      3.296402         0.000000        0.000000   \n",
       "18      41.407185      6.770827         1.916649        0.907018   \n",
       "19      50.076664      6.419547         1.698292        0.286265   \n",
       "20      21.261205      1.219974         0.000000        0.000000   \n",
       "21      25.272956      3.077830         0.000000        0.000000   \n",
       "22      39.935706      4.547335         1.540523        0.275735   \n",
       "23      42.255876      2.374120         2.226885        0.686022   \n",
       "24      19.007862      0.868826         0.000000        0.000000   \n",
       "25      24.355231      0.983594         0.000000        0.000000   \n",
       "26      37.853194      3.383559         1.649266        0.440304   \n",
       "27      38.379892      6.503042         1.153970        0.358198   \n",
       "\n",
       "   param_logistic__C param_logistic__penalty param_pca__n_components  \\\n",
       "0               0.01                      l1                       6   \n",
       "1               0.01                      l1                       8   \n",
       "2               0.01                      l2                       6   \n",
       "3               0.01                      l2                       8   \n",
       "4                0.1                      l1                       6   \n",
       "5                0.1                      l1                       8   \n",
       "6                0.1                      l2                       6   \n",
       "7                0.1                      l2                       8   \n",
       "8                  1                      l1                       6   \n",
       "9                  1                      l1                       8   \n",
       "10                 1                      l2                       6   \n",
       "11                 1                      l2                       8   \n",
       "12                10                      l1                       6   \n",
       "13                10                      l1                       8   \n",
       "14                10                      l2                       6   \n",
       "15                10                      l2                       8   \n",
       "16               100                      l1                       6   \n",
       "17               100                      l1                       8   \n",
       "18               100                      l2                       6   \n",
       "19               100                      l2                       8   \n",
       "20              1000                      l1                       6   \n",
       "21              1000                      l1                       8   \n",
       "22              1000                      l2                       6   \n",
       "23              1000                      l2                       8   \n",
       "24             10000                      l1                       6   \n",
       "25             10000                      l1                       8   \n",
       "26             10000                      l2                       6   \n",
       "27             10000                      l2                       8   \n",
       "\n",
       "                                               params  split0_test_score  \\\n",
       "0   {'logistic__C': 0.01, 'logistic__penalty': 'l1...                NaN   \n",
       "1   {'logistic__C': 0.01, 'logistic__penalty': 'l1...                NaN   \n",
       "2   {'logistic__C': 0.01, 'logistic__penalty': 'l2...           0.911018   \n",
       "3   {'logistic__C': 0.01, 'logistic__penalty': 'l2...           0.916676   \n",
       "4   {'logistic__C': 0.1, 'logistic__penalty': 'l1'...                NaN   \n",
       "5   {'logistic__C': 0.1, 'logistic__penalty': 'l1'...                NaN   \n",
       "6   {'logistic__C': 0.1, 'logistic__penalty': 'l2'...           0.919103   \n",
       "7   {'logistic__C': 0.1, 'logistic__penalty': 'l2'...           0.924844   \n",
       "8   {'logistic__C': 1, 'logistic__penalty': 'l1', ...                NaN   \n",
       "9   {'logistic__C': 1, 'logistic__penalty': 'l1', ...                NaN   \n",
       "10  {'logistic__C': 1, 'logistic__penalty': 'l2', ...           0.926240   \n",
       "11  {'logistic__C': 1, 'logistic__penalty': 'l2', ...           0.929826   \n",
       "12  {'logistic__C': 10, 'logistic__penalty': 'l1',...                NaN   \n",
       "13  {'logistic__C': 10, 'logistic__penalty': 'l1',...                NaN   \n",
       "14  {'logistic__C': 10, 'logistic__penalty': 'l2',...           0.931833   \n",
       "15  {'logistic__C': 10, 'logistic__penalty': 'l2',...           0.931609   \n",
       "16  {'logistic__C': 100, 'logistic__penalty': 'l1'...                NaN   \n",
       "17  {'logistic__C': 100, 'logistic__penalty': 'l1'...                NaN   \n",
       "18  {'logistic__C': 100, 'logistic__penalty': 'l2'...           0.933025   \n",
       "19  {'logistic__C': 100, 'logistic__penalty': 'l2'...           0.932010   \n",
       "20  {'logistic__C': 1000, 'logistic__penalty': 'l1...                NaN   \n",
       "21  {'logistic__C': 1000, 'logistic__penalty': 'l1...                NaN   \n",
       "22  {'logistic__C': 1000, 'logistic__penalty': 'l2...           0.933159   \n",
       "23  {'logistic__C': 1000, 'logistic__penalty': 'l2...           0.932068   \n",
       "24  {'logistic__C': 10000, 'logistic__penalty': 'l...                NaN   \n",
       "25  {'logistic__C': 10000, 'logistic__penalty': 'l...                NaN   \n",
       "26  {'logistic__C': 10000, 'logistic__penalty': 'l...           0.933173   \n",
       "27  {'logistic__C': 10000, 'logistic__penalty': 'l...           0.932073   \n",
       "\n",
       "    split1_test_score  split2_test_score  split3_test_score  \\\n",
       "0                 NaN                NaN                NaN   \n",
       "1                 NaN                NaN                NaN   \n",
       "2            0.910724           0.910559           0.914219   \n",
       "3            0.916899           0.916666           0.919727   \n",
       "4                 NaN                NaN                NaN   \n",
       "5                 NaN                NaN                NaN   \n",
       "6            0.919327           0.918501           0.921595   \n",
       "7            0.925954           0.924580           0.927578   \n",
       "8                 NaN                NaN                NaN   \n",
       "9                 NaN                NaN                NaN   \n",
       "10           0.926582           0.925904           0.928415   \n",
       "11           0.931389           0.929634           0.932390   \n",
       "12                NaN                NaN                NaN   \n",
       "13                NaN                NaN                NaN   \n",
       "14           0.932196           0.932259           0.933823   \n",
       "15           0.933400           0.931553           0.934151   \n",
       "16                NaN                NaN                NaN   \n",
       "17                NaN                NaN                NaN   \n",
       "18           0.933333           0.933623           0.934939   \n",
       "19           0.933911           0.932026           0.934561   \n",
       "20                NaN                NaN                NaN   \n",
       "21                NaN                NaN                NaN   \n",
       "22           0.933464           0.933778           0.935066   \n",
       "23           0.933980           0.932099           0.934618   \n",
       "24                NaN                NaN                NaN   \n",
       "25                NaN                NaN                NaN   \n",
       "26           0.933476           0.933793           0.935078   \n",
       "27           0.933987           0.932106           0.934624   \n",
       "\n",
       "    split4_test_score  mean_test_score  std_test_score  rank_test_score  \n",
       "0                 NaN              NaN             NaN               15  \n",
       "1                 NaN              NaN             NaN               15  \n",
       "2            0.904439         0.910192        0.003175               14  \n",
       "3            0.910744         0.916142        0.002937               13  \n",
       "4                 NaN              NaN             NaN               15  \n",
       "5                 NaN              NaN             NaN               15  \n",
       "6            0.913677         0.918441        0.002603               12  \n",
       "7            0.919830         0.924557        0.002589               11  \n",
       "8                 NaN              NaN             NaN               15  \n",
       "9                 NaN              NaN             NaN               15  \n",
       "10           0.921883         0.925805        0.002145               10  \n",
       "11           0.925803         0.929808        0.002246                9  \n",
       "12                NaN              NaN             NaN               15  \n",
       "13                NaN              NaN             NaN               15  \n",
       "14           0.927954         0.931613        0.001954                8  \n",
       "15           0.927687         0.931680        0.002237                7  \n",
       "16                NaN              NaN             NaN               15  \n",
       "17                NaN              NaN             NaN               15  \n",
       "18           0.929245         0.932833        0.001909                3  \n",
       "19           0.928120         0.932126        0.002244                6  \n",
       "20                NaN              NaN             NaN               15  \n",
       "21                NaN              NaN             NaN               15  \n",
       "22           0.929391         0.932972        0.001904                2  \n",
       "23           0.928179         0.932189        0.002246                5  \n",
       "24                NaN              NaN             NaN               15  \n",
       "25                NaN              NaN             NaN               15  \n",
       "26           0.929408         0.932986        0.001903                1  \n",
       "27           0.928185         0.932195        0.002245                4  "
      ]
     },
     "execution_count": 51,
     "metadata": {},
     "output_type": "execute_result"
    }
   ],
   "source": [
    "# cross validation results\n",
    "pd.DataFrame(model.cv_results_)"
   ]
  },
  {
   "cell_type": "code",
   "execution_count": 52,
   "id": "97ec2c77",
   "metadata": {},
   "outputs": [
    {
     "name": "stdout",
     "output_type": "stream",
     "text": [
      "Best AUC:  0.9329855495524336\n",
      "Best hyperparameters:  {'logistic__C': 10000, 'logistic__penalty': 'l2', 'pca__n_components': 6}\n"
     ]
    }
   ],
   "source": [
    "# print best hyperparameters\n",
    "print(\"Best AUC: \", model.best_score_)\n",
    "print(\"Best hyperparameters: \", model.best_params_)"
   ]
  },
  {
   "cell_type": "markdown",
   "id": "2cf795e3",
   "metadata": {},
   "source": [
    "### Final Model and evaluation with Best Hyperparameters"
   ]
  },
  {
   "cell_type": "markdown",
   "id": "0b666121",
   "metadata": {},
   "source": [
    "Applying the logisitc regression model along with PCA with the best parameters found above"
   ]
  },
  {
   "cell_type": "code",
   "execution_count": 53,
   "id": "e5d392aa",
   "metadata": {},
   "outputs": [],
   "source": [
    "# model with optimal hyperparameters\n",
    "\n",
    "# create pipeline\n",
    "steps = [('scaler', MinMaxScaler()),\n",
    "         (\"pca\", PCA(n_components = 6)),\n",
    "         (\"logistic\", LogisticRegression(penalty='l2', C=10000, class_weight={0:0.1, 1: 0.9})) # the class weight is \n",
    "        ]                                                                                      # used to handle class imbalance\n",
    "\n",
    "\n",
    "# compile pipeline\n",
    "final_log_model = Pipeline(steps)"
   ]
  },
  {
   "cell_type": "markdown",
   "id": "52cb41ab",
   "metadata": {},
   "source": [
    "#### Model Training"
   ]
  },
  {
   "cell_type": "code",
   "execution_count": 54,
   "id": "7a240af9",
   "metadata": {},
   "outputs": [],
   "source": [
    "# fitting the model\n",
    "final_log_model.fit(X_train, y_train)\n",
    "\n",
    "# predictions on train data\n",
    "final_train_pred = final_log_model.predict(X_train)"
   ]
  },
  {
   "cell_type": "code",
   "execution_count": 55,
   "id": "eea884da",
   "metadata": {},
   "outputs": [
    {
     "name": "stdout",
     "output_type": "stream",
     "text": [
      "classification report for train data:\n",
      "               precision    recall  f1-score   support\n",
      "\n",
      "           0       1.00      1.00      1.00   4448045\n",
      "           1       0.25      0.10      0.14      5789\n",
      "\n",
      "    accuracy                           1.00   4453834\n",
      "   macro avg       0.62      0.55      0.57   4453834\n",
      "weighted avg       1.00      1.00      1.00   4453834\n",
      "\n",
      "None\n",
      "AUC:    \t 0.93\n"
     ]
    }
   ],
   "source": [
    "# classification report on train data predictions\n",
    "print(print(\"classification report for train data:\\n\",classification_report(y_train, final_train_pred)))\n",
    "\n",
    "# check area under curve\n",
    "final_train_pred_prob = final_log_model.predict_proba(X_train)[:, 1]\n",
    "print(\"AUC:    \\t\", round(roc_auc_score(y_train, final_train_pred_prob),2))"
   ]
  },
  {
   "cell_type": "code",
   "execution_count": 56,
   "id": "c07c27ab",
   "metadata": {},
   "outputs": [
    {
     "name": "stdout",
     "output_type": "stream",
     "text": [
      "Confusion matrix for train data:\n",
      "\n"
     ]
    },
    {
     "data": {
      "image/png": "[encoded data removed]",
      "text/plain": [
       "<Figure size 640x480 with 2 Axes>"
      ]
     },
     "metadata": {},
     "output_type": "display_data"
    }
   ],
   "source": [
    "# confusion matrix on train data predictions\n",
    "final_train_cm = confusion_matrix(y_train, final_train_pred)\n",
    "print('Confusion matrix for train data:\\n')\n",
    "ConfusionMatrixDisplay(final_train_cm, display_labels=['No Fraud', 'Fraud']).plot()\n",
    "plt.show()"
   ]
  },
  {
   "cell_type": "markdown",
   "id": "026bd5d6",
   "metadata": {},
   "source": [
    "#### Model Evaluation"
   ]
  },
  {
   "cell_type": "code",
   "execution_count": 57,
   "id": "0a5a31dd",
   "metadata": {},
   "outputs": [
    {
     "name": "stdout",
     "output_type": "stream",
     "text": [
      "classification report for test data:\n",
      "               precision    recall  f1-score   support\n",
      "\n",
      "           0       1.00      1.00      1.00   1906362\n",
      "           1       0.21      0.08      0.11      2424\n",
      "\n",
      "    accuracy                           1.00   1908786\n",
      "   macro avg       0.60      0.54      0.56   1908786\n",
      "weighted avg       1.00      1.00      1.00   1908786\n",
      "\n",
      "AUC:    \t 0.93\n"
     ]
    }
   ],
   "source": [
    "# predict fraud on test data\n",
    "final_test_pred = final_log_model.predict(X_test)\n",
    "\n",
    "# classification report on test data predictions\n",
    "print(\"classification report for test data:\\n\",classification_report(y_test, final_test_pred))\n",
    "\n",
    "# check area under curve\n",
    "test_pred_prob = final_log_model.predict_proba(X_test)[:, 1]\n",
    "print(\"AUC:    \\t\", round(roc_auc_score(y_test,test_pred_prob),2))"
   ]
  },
  {
   "cell_type": "code",
   "execution_count": 58,
   "id": "f3241df5",
   "metadata": {
    "scrolled": true
   },
   "outputs": [
    {
     "name": "stdout",
     "output_type": "stream",
     "text": [
      "Confusion matrix for test predictions of model with optimal hyperparameters:\n",
      "\n"
     ]
    },
    {
     "data": {
      "image/png": "[encoded data removed]",
      "text/plain": [
       "<Figure size 640x480 with 2 Axes>"
      ]
     },
     "metadata": {},
     "output_type": "display_data"
    }
   ],
   "source": [
    "# confusion matrix on test data predictions\n",
    "final_test_cm = confusion_matrix(y_test, final_test_pred)\n",
    "print(\"Confusion matrix for test predictions of model with optimal hyperparameters:\\n\")\n",
    "ConfusionMatrixDisplay(final_test_cm, display_labels=['No Fraud', 'Fraud']).plot()\n",
    "plt.show()"
   ]
  },
  {
   "cell_type": "markdown",
   "id": "183ed63d",
   "metadata": {},
   "source": [
    "#### Observations of the final model"
   ]
  },
  {
   "cell_type": "markdown",
   "id": "77013a87",
   "metadata": {},
   "source": [
    "From the classification reports of both training and testing data:\n",
    "\n",
    "- The **Training and Testing** Accuracies are both **almost 100%**.\n",
    "- The **AUC** for both the datas is also same i.e. **0.93**.\n",
    "- The **Precision and Recall** values are also **similar**.\n",
    "\n",
    "This proves that tthe model to be working properly."
   ]
  },
  {
   "cell_type": "markdown",
   "id": "368afa57",
   "metadata": {},
   "source": [
    "### Feature Importances"
   ]
  },
  {
   "cell_type": "code",
   "execution_count": 59,
   "id": "decec7dd",
   "metadata": {},
   "outputs": [
    {
     "data": {
      "image/png": "[encoded data removed]",
      "text/plain": [
       "<Figure size 1000x600 with 1 Axes>"
      ]
     },
     "metadata": {},
     "output_type": "display_data"
    }
   ],
   "source": [
    "scaler = MinMaxScaler()\n",
    "X_train = scaler.fit_transform(X_train)\n",
    "X_test = scaler.transform(X_test)\n",
    "\n",
    "model = LogisticRegression(penalty='l2', C=10000, class_weight={0:0.1, 1: 0.9})\n",
    "model.fit(X_train, y_train)\n",
    "\n",
    "\n",
    "coefficients = model.coef_[0]\n",
    "\n",
    "feature_importance = pd.DataFrame({'Feature': X.columns, 'Importance': np.abs(coefficients)})\n",
    "feature_importance = feature_importance.sort_values('Importance', ascending=True)\n",
    "feature_importance.plot(x='Feature', y='Importance', kind='barh', figsize=(10, 6))\n",
    "plt.title('Plot of Feature Importance')\n",
    "plt.xlabel('Importance value')\n",
    "plt.show()"
   ]
  },
  {
   "cell_type": "markdown",
   "id": "879dee97",
   "metadata": {},
   "source": [
    "According to the plot above, most important features are:\n",
    " - **newbalanceOrig** (new balance after the transaction)\n",
    " - Types of transactions i.e. **Transfer, Cash out and Payment**\n",
    " \n",
    " These features do make sense as they can be used for the analysis in order to find any financial pattern of ana entity or an individual which could lead to any fraud if there's any."
   ]
  },
  {
   "cell_type": "markdown",
   "id": "b812ab2e",
   "metadata": {},
   "source": [
    "Actions to be implemented:\n",
    "- Updating the the technologies on regular periods. \n",
    "- Maintaining strict regulations for secure payments."
   ]
  },
  {
   "cell_type": "code",
   "execution_count": null,
   "id": "1a9dda7d",
   "metadata": {},
   "outputs": [],
   "source": []
  }
 ],
 "metadata": {
  "kernelspec": {
   "display_name": "Python 3 (ipykernel)",
   "language": "python",
   "name": "python3"
  },
  "language_info": {
   "codemirror_mode": {
    "name": "ipython",
    "version": 3
   },
   "file_extension": ".py",
   "mimetype": "text/x-python",
   "name": "python",
   "nbconvert_exporter": "python",
   "pygments_lexer": "ipython3",
   "version": "3.11.4"
  }
 },
 "nbformat": 4,
 "nbformat_minor": 5
}
